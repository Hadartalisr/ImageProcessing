{
 "cells": [
  {
   "cell_type": "markdown",
   "source": [
    "1. Read a video from your local file system into a numpy array."
   ],
   "metadata": {
    "collapsed": false
   },
   "id": "f3d1f4985c3b0354"
  },
  {
   "cell_type": "code",
   "outputs": [],
   "source": [],
   "metadata": {
    "collapsed": false
   },
   "id": "50a65d8bfc243218",
   "execution_count": null
  },
  {
   "cell_type": "markdown",
   "source": [
    "2. Print the dimensions, type, and FPS (frames per second) of the video (i.e. the numpy array)."
   ],
   "metadata": {
    "collapsed": false
   },
   "id": "2d66db7a2387b586"
  },
  {
   "cell_type": "code",
   "outputs": [],
   "source": [],
   "metadata": {
    "collapsed": false
   },
   "id": "d52fa2a3b2044a37",
   "execution_count": null
  },
  {
   "cell_type": "markdown",
   "source": [
    "3. Transform the video into a grayscale video."
   ],
   "metadata": {
    "collapsed": false
   },
   "id": "d20e5badae07778d"
  },
  {
   "cell_type": "code",
   "outputs": [],
   "source": [],
   "metadata": {
    "collapsed": false
   },
   "id": "55394bc020c8d855",
   "execution_count": null
  },
  {
   "cell_type": "markdown",
   "source": [
    "4. Save the grayscale video to the disk (Note: for this you can probably loop over the frames as it may\n",
    "be a bit harder to perform without any loops)."
   ],
   "metadata": {
    "collapsed": false
   },
   "id": "f7395a253ef50486"
  },
  {
   "cell_type": "code",
   "outputs": [],
   "source": [],
   "metadata": {
    "collapsed": false
   },
   "id": "91c487bfb0129c7b",
   "execution_count": null
  },
  {
   "cell_type": "markdown",
   "source": [
    "5. Save the grayscale video to the disk at half the original FPS."
   ],
   "metadata": {
    "collapsed": false
   },
   "id": "f74010af98c43446"
  },
  {
   "cell_type": "code",
   "outputs": [],
   "source": [],
   "metadata": {
    "collapsed": false
   },
   "id": "dd011c54fdb1c344",
   "execution_count": null
  },
  {
   "cell_type": "markdown",
   "source": [
    "6. Plot a figure showing a graph of the mean, sum, std, and max value per frame of the original video\n",
    "and the grayscale video."
   ],
   "metadata": {
    "collapsed": false
   },
   "id": "5520625e078559f0"
  },
  {
   "cell_type": "code",
   "outputs": [],
   "source": [],
   "metadata": {
    "collapsed": false
   },
   "id": "a54c8dd5f592dead",
   "execution_count": null
  },
  {
   "cell_type": "markdown",
   "source": [
    "7. Save the figure to the disk."
   ],
   "metadata": {
    "collapsed": false
   },
   "id": "e2f2c36ccfe9367a"
  },
  {
   "cell_type": "code",
   "outputs": [],
   "source": [],
   "metadata": {
    "collapsed": true
   },
   "id": "initial_id",
   "execution_count": 0
  }
 ],
 "metadata": {
  "kernelspec": {
   "display_name": "Python 3",
   "language": "python",
   "name": "python3"
  },
  "language_info": {
   "codemirror_mode": {
    "name": "ipython",
    "version": 2
   },
   "file_extension": ".py",
   "mimetype": "text/x-python",
   "name": "python",
   "nbconvert_exporter": "python",
   "pygments_lexer": "ipython2",
   "version": "2.7.6"
  }
 },
 "nbformat": 4,
 "nbformat_minor": 5
}
