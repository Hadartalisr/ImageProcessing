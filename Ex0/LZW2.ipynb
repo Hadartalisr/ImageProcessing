{
 "cells": [
  {
   "cell_type": "code",
   "execution_count": 5,
   "id": "initial_id",
   "metadata": {
    "collapsed": true,
    "ExecuteTime": {
     "end_time": "2024-02-16T11:17:39.110471Z",
     "start_time": "2024-02-16T11:17:39.104963Z"
    }
   },
   "outputs": [
    {
     "name": "stdout",
     "output_type": "stream",
     "text": [
      "i: 0, P: A, C: B, PC: AB, Dict: {'A': 0, 'B': 1}, output: []\n",
      "i: 1, P: B, C: A, PC: BA, Dict: {'A': 0, 'B': 1, 'AB': 2}, output: [0]\n",
      "i: 2, P: A, C: B, PC: AB, Dict: {'A': 0, 'B': 1, 'AB': 2, 'BA': 3}, output: [0, 1]\n",
      "i: 3, P: AB, C: A, PC: ABA, Dict: {'A': 0, 'B': 1, 'AB': 2, 'BA': 3}, output: [0, 1]\n",
      "i: 4, P: A, C: B, PC: AB, Dict: {'A': 0, 'B': 1, 'AB': 2, 'BA': 3, 'ABA': 4}, output: [0, 1, 2]\n",
      "i: 5, P: AB, C: A, PC: ABA, Dict: {'A': 0, 'B': 1, 'AB': 2, 'BA': 3, 'ABA': 4}, output: [0, 1, 2]\n",
      "i: 6, P: ABA, C: B, PC: ABAB, Dict: {'A': 0, 'B': 1, 'AB': 2, 'BA': 3, 'ABA': 4}, output: [0, 1, 2]\n",
      "i: 7, P: B, C: A, PC: BA, Dict: {'A': 0, 'B': 1, 'AB': 2, 'BA': 3, 'ABA': 4, 'ABAB': 5}, output: [0, 1, 2, 4]\n",
      "P: BA, C: (None), PC: BA, Dictionary: {'A': 0, 'B': 1, 'AB': 2, 'BA': 3, 'ABA': 4, 'ABAB': 5}, output: [0, 1, 2, 4, 3]\n",
      "Compressed Output: [0, 1, 2, 4, 3]\n"
     ]
    }
   ],
   "source": [
    "def lzw_compress(input_str):\n",
    "    dictionary = {'A': 0, 'B': 1}  # Initialize the dictionary with 'A' and 'B'\n",
    "    next_code = 2  # Start with the next available code\n",
    "\n",
    "    output = []\n",
    "    current_code = input_str[0]\n",
    "\n",
    "    for i, char in enumerate(input_str[1:]):\n",
    "        test_str = current_code + char\n",
    "        print(f'i: {i}, P: {current_code}, C: {char}, PC: {current_code+char}, Dict: {dictionary}, output: {output}')\n",
    "        if test_str in dictionary:\n",
    "            current_code = test_str\n",
    "        else:\n",
    "            output.append(dictionary[current_code])\n",
    "            dictionary[test_str] = next_code\n",
    "            next_code += 1\n",
    "            current_code = char\n",
    "\n",
    "    output.append(dictionary[current_code])\n",
    "    print(f'P: {current_code}, C: (None), PC: {current_code}, Dictionary: {dictionary}, output: {output}')\n",
    "\n",
    "    return output\n",
    "\n",
    "# Example\n",
    "input_string = \"ABABABABA\"\n",
    "compressed_output = lzw_compress(input_string)\n",
    "print(\"Compressed Output:\", compressed_output)\n"
   ]
  },
  {
   "cell_type": "code",
   "outputs": [
    {
     "name": "stdout",
     "output_type": "stream",
     "text": [
      "O: 0, Dict: {0: 'A', 1: 'B'}, output: ['A']\n",
      "O: 0, N: 1 , C: ,         (N in dict: True), S: B,         output: ['A', 'B'], Dict: {0: 'A', 1: 'B'}\n",
      "O: 1, N: 2 , C:B ,         (N in dict: True), S: AB,         output: ['A', 'B', 'AB'], Dict: {0: 'A', 1: 'B', 2: 'AB'}\n",
      "O: 2, N: 4 , C:A ,         (N in dict: False), S: ABA,         output: ['A', 'B', 'AB', 'ABA'], Dict: {0: 'A', 1: 'B', 2: 'AB', 3: 'BA'}\n",
      "O: 4, N: 3 , C:A ,         (N in dict: True), S: BA,         output: ['A', 'B', 'AB', 'ABA', 'BA'], Dict: {0: 'A', 1: 'B', 2: 'AB', 3: 'BA', 4: 'ABA'}\n",
      "Decompressed Output: ABABABABA\n"
     ]
    }
   ],
   "source": [
    "def lzw_decompress(compressed_output):\n",
    "    dictionary = {0: 'A', 1: 'B'}  # Initialize the dictionary with 'A' and 'B'\n",
    "    next_code = 2  # Start with the next available code\n",
    "\n",
    "    output = [dictionary[compressed_output[0]]]\n",
    "    O = compressed_output[0]\n",
    "    C = ''\n",
    "    S = ''\n",
    "    print(f'O: {O}, Dict: {dictionary}, output: {output}')\n",
    "    for i, N in enumerate(compressed_output[1:]):\n",
    "        if N in dictionary:\n",
    "            S = dictionary[N]\n",
    "        elif N == next_code:\n",
    "            S = dictionary[O] + C\n",
    "        else:\n",
    "            raise ValueError(\"Bad compressed code\")\n",
    "        \n",
    "        output.append(S)\n",
    "        print(f'O: {O}, N: {N} , C:{C} ,         (N in dict: {N in dictionary}), S: {S},         output: {output}, Dict: {dictionary}')\n",
    "\n",
    "        C = S[0]\n",
    "        dictionary[next_code] = dictionary[O] + C\n",
    "        O = N\n",
    "        next_code += 1\n",
    "\n",
    "\n",
    "    return ''.join(output)\n",
    "\n",
    "# Example\n",
    "compressed_output = [0, 1, 2, 4, 3]\n",
    "decompressed_output = lzw_decompress(compressed_output)\n",
    "print(\"Decompressed Output:\", decompressed_output)"
   ],
   "metadata": {
    "collapsed": false,
    "ExecuteTime": {
     "end_time": "2024-02-16T12:14:59.816966Z",
     "start_time": "2024-02-16T12:14:59.809638Z"
    }
   },
   "id": "502383672480172d",
   "execution_count": 27
  },
  {
   "cell_type": "code",
   "outputs": [
    {
     "name": "stdout",
     "output_type": "stream",
     "text": [
      "Decompressed Output: ABABABABA\n"
     ]
    }
   ],
   "source": [],
   "metadata": {
    "collapsed": false,
    "ExecuteTime": {
     "end_time": "2024-02-16T11:38:55.403101Z",
     "start_time": "2024-02-16T11:38:55.398833Z"
    }
   },
   "id": "679ced35fe0bf2c5",
   "execution_count": 7
  },
  {
   "cell_type": "code",
   "outputs": [],
   "source": [],
   "metadata": {
    "collapsed": false
   },
   "id": "f2909a729331958e"
  }
 ],
 "metadata": {
  "kernelspec": {
   "display_name": "Python 3",
   "language": "python",
   "name": "python3"
  },
  "language_info": {
   "codemirror_mode": {
    "name": "ipython",
    "version": 2
   },
   "file_extension": ".py",
   "mimetype": "text/x-python",
   "name": "python",
   "nbconvert_exporter": "python",
   "pygments_lexer": "ipython2",
   "version": "2.7.6"
  }
 },
 "nbformat": 4,
 "nbformat_minor": 5
}
