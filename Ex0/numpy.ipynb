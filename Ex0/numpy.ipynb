{
 "cells": [
  {
   "cell_type": "code",
   "outputs": [],
   "source": [
    "import numpy as np\n",
    "import  matplotlib.pyplot as plt"
   ],
   "metadata": {
    "collapsed": false,
    "ExecuteTime": {
     "end_time": "2024-01-10T16:26:36.984511Z",
     "start_time": "2024-01-10T16:26:36.676519Z"
    }
   },
   "id": "29721a3a7c86b291",
   "execution_count": 1
  },
  {
   "cell_type": "markdown",
   "source": [
    "1. Create a numpy array of shape [9, 1] and fill it with random values."
   ],
   "metadata": {
    "collapsed": false
   },
   "id": "455cb2af9357a3cd"
  },
  {
   "cell_type": "code",
   "outputs": [
    {
     "data": {
      "text/plain": "array([[0.93124426],\n       [0.68043749],\n       [0.69487052],\n       [0.05134152],\n       [0.97108857],\n       [0.07861027],\n       [0.4835629 ],\n       [0.48677352],\n       [0.02416514]])"
     },
     "execution_count": 2,
     "metadata": {},
     "output_type": "execute_result"
    }
   ],
   "source": [
    "arr = np.random.rand(9, 1)\n",
    "arr"
   ],
   "metadata": {
    "collapsed": false,
    "ExecuteTime": {
     "end_time": "2024-01-10T16:26:36.989351Z",
     "start_time": "2024-01-10T16:26:36.984499Z"
    }
   },
   "id": "922bc2db769b6f40",
   "execution_count": 2
  },
  {
   "cell_type": "markdown",
   "source": [
    "2. Turn it into a 3 × 3 matrix."
   ],
   "metadata": {
    "collapsed": false
   },
   "id": "8ed9e679ef6b9ce2"
  },
  {
   "cell_type": "code",
   "outputs": [
    {
     "data": {
      "text/plain": "array([[0.93124426, 0.68043749, 0.69487052],\n       [0.05134152, 0.97108857, 0.07861027],\n       [0.4835629 , 0.48677352, 0.02416514]])"
     },
     "execution_count": 3,
     "metadata": {},
     "output_type": "execute_result"
    }
   ],
   "source": [
    "mat = arr.reshape(3,3)\n",
    "mat"
   ],
   "metadata": {
    "collapsed": false,
    "ExecuteTime": {
     "end_time": "2024-01-10T16:26:36.991618Z",
     "start_time": "2024-01-10T16:26:36.988168Z"
    }
   },
   "id": "3592b32e209f32d4",
   "execution_count": 3
  },
  {
   "cell_type": "markdown",
   "source": [
    "3. Print the shape and type of the matrix."
   ],
   "metadata": {
    "collapsed": false
   },
   "id": "26bc4a8d90aa4a51"
  },
  {
   "cell_type": "code",
   "outputs": [
    {
     "name": "stdout",
     "output_type": "stream",
     "text": [
      "Matrix Shape: (3, 3)\n",
      "Matrix Type: <class 'numpy.ndarray'>\n"
     ]
    }
   ],
   "source": [
    "print(\"Matrix Shape:\", mat.shape)\n",
    "print(\"Matrix Type:\", type(mat))"
   ],
   "metadata": {
    "collapsed": false,
    "ExecuteTime": {
     "end_time": "2024-01-10T16:26:36.998573Z",
     "start_time": "2024-01-10T16:26:36.991748Z"
    }
   },
   "id": "88f20ee777ee5a90",
   "execution_count": 4
  },
  {
   "cell_type": "markdown",
   "source": [
    "4. Get the first column of the matrix and multiply it by the third column of the matrix."
   ],
   "metadata": {
    "collapsed": false
   },
   "id": "9d6fec08e8f3c447"
  },
  {
   "cell_type": "code",
   "outputs": [
    {
     "data": {
      "text/plain": "0.662815517581623"
     },
     "execution_count": 5,
     "metadata": {},
     "output_type": "execute_result"
    }
   ],
   "source": [
    "first_column = mat[:,0]\n",
    "third_column = mat[:,2]\n",
    "value = first_column @ third_column\n",
    "value"
   ],
   "metadata": {
    "collapsed": false,
    "ExecuteTime": {
     "end_time": "2024-01-10T16:26:36.999241Z",
     "start_time": "2024-01-10T16:26:36.993397Z"
    }
   },
   "id": "c62a7acdc8bdaeba",
   "execution_count": 5
  },
  {
   "cell_type": "markdown",
   "source": [
    "5. Create a new matrix of size [9, 9] and fill it with the value from the previous section."
   ],
   "metadata": {
    "collapsed": false
   },
   "id": "de019f4d44701a1a"
  },
  {
   "cell_type": "code",
   "outputs": [
    {
     "data": {
      "text/plain": "array([[0.66281552, 0.66281552, 0.66281552, 0.66281552, 0.66281552,\n        0.66281552, 0.66281552, 0.66281552, 0.66281552],\n       [0.66281552, 0.66281552, 0.66281552, 0.66281552, 0.66281552,\n        0.66281552, 0.66281552, 0.66281552, 0.66281552],\n       [0.66281552, 0.66281552, 0.66281552, 0.66281552, 0.66281552,\n        0.66281552, 0.66281552, 0.66281552, 0.66281552],\n       [0.66281552, 0.66281552, 0.66281552, 0.66281552, 0.66281552,\n        0.66281552, 0.66281552, 0.66281552, 0.66281552],\n       [0.66281552, 0.66281552, 0.66281552, 0.66281552, 0.66281552,\n        0.66281552, 0.66281552, 0.66281552, 0.66281552],\n       [0.66281552, 0.66281552, 0.66281552, 0.66281552, 0.66281552,\n        0.66281552, 0.66281552, 0.66281552, 0.66281552],\n       [0.66281552, 0.66281552, 0.66281552, 0.66281552, 0.66281552,\n        0.66281552, 0.66281552, 0.66281552, 0.66281552],\n       [0.66281552, 0.66281552, 0.66281552, 0.66281552, 0.66281552,\n        0.66281552, 0.66281552, 0.66281552, 0.66281552],\n       [0.66281552, 0.66281552, 0.66281552, 0.66281552, 0.66281552,\n        0.66281552, 0.66281552, 0.66281552, 0.66281552]])"
     },
     "execution_count": 6,
     "metadata": {},
     "output_type": "execute_result"
    }
   ],
   "source": [
    "new_mat = np.tile(value, (9,9))\n",
    "new_mat"
   ],
   "metadata": {
    "collapsed": false,
    "ExecuteTime": {
     "end_time": "2024-01-10T16:26:37.004620Z",
     "start_time": "2024-01-10T16:26:36.999097Z"
    }
   },
   "id": "d426f2921f1debeb",
   "execution_count": 6
  },
  {
   "cell_type": "markdown",
   "source": [
    "6. Create a new matrix of size [9, 9] and fill it with random values."
   ],
   "metadata": {
    "collapsed": false
   },
   "id": "8d9eadb6e32de2a8"
  },
  {
   "cell_type": "code",
   "outputs": [
    {
     "data": {
      "text/plain": "array([[7.44697406e-01, 6.11090270e-01, 6.37479957e-01, 3.08114493e-01,\n        6.63806330e-02, 6.16915498e-01, 3.65940410e-01, 4.57779672e-01,\n        3.57571627e-01],\n       [7.28544140e-01, 9.02142681e-01, 4.97096739e-01, 3.81307697e-02,\n        9.21313983e-01, 9.19977390e-01, 5.22468434e-01, 9.67965004e-01,\n        8.26043166e-01],\n       [6.78621959e-01, 2.97675007e-01, 5.70046586e-01, 8.05228003e-01,\n        5.47648519e-01, 1.16775519e-01, 2.08109417e-01, 2.39045199e-01,\n        3.99535806e-01],\n       [3.38197306e-01, 4.87057752e-01, 6.63489957e-01, 6.01054032e-01,\n        6.38146477e-01, 8.21519363e-01, 5.80932999e-01, 9.73511809e-01,\n        6.86813657e-01],\n       [2.45521242e-01, 9.78460439e-01, 4.01821198e-01, 2.87272652e-01,\n        7.22902044e-01, 7.82299485e-01, 9.73325435e-01, 2.98633743e-01,\n        1.18480469e-01],\n       [4.45690269e-01, 5.53418195e-01, 7.68472593e-01, 3.29687940e-01,\n        8.13106065e-01, 7.46023809e-01, 8.28473916e-01, 9.54377987e-01,\n        5.45369873e-01],\n       [4.87274250e-01, 8.85147705e-01, 7.19663993e-01, 2.15141209e-01,\n        1.70583960e-01, 7.78230661e-01, 5.09509024e-01, 8.29073199e-01,\n        1.20191940e-01],\n       [8.82788283e-01, 3.56191108e-01, 3.41245907e-01, 5.40956989e-01,\n        9.52984991e-02, 6.56357123e-01, 7.23217507e-01, 8.85123083e-01,\n        7.20945822e-01],\n       [7.22352567e-01, 5.48962321e-01, 6.57158570e-01, 4.76624563e-01,\n        3.96669012e-01, 9.43572268e-01, 1.98450879e-04, 2.17621505e-01,\n        8.47469396e-01]])"
     },
     "execution_count": 7,
     "metadata": {},
     "output_type": "execute_result"
    }
   ],
   "source": [
    "random_mat = np.random.rand(9,9)\n",
    "random_mat"
   ],
   "metadata": {
    "collapsed": false,
    "ExecuteTime": {
     "end_time": "2024-01-10T16:26:37.031090Z",
     "start_time": "2024-01-10T16:26:37.002510Z"
    }
   },
   "id": "cf13435804429b5f",
   "execution_count": 7
  },
  {
   "cell_type": "markdown",
   "source": [
    "7. Stack the two matrices along a new dimension to form a tensor of shape [9, 9, 2]."
   ],
   "metadata": {
    "collapsed": false
   },
   "id": "682d237b7ec3cec6"
  },
  {
   "cell_type": "code",
   "outputs": [
    {
     "data": {
      "text/plain": "array([[[6.62815518e-01, 7.44697406e-01],\n        [6.62815518e-01, 6.11090270e-01],\n        [6.62815518e-01, 6.37479957e-01],\n        [6.62815518e-01, 3.08114493e-01],\n        [6.62815518e-01, 6.63806330e-02],\n        [6.62815518e-01, 6.16915498e-01],\n        [6.62815518e-01, 3.65940410e-01],\n        [6.62815518e-01, 4.57779672e-01],\n        [6.62815518e-01, 3.57571627e-01]],\n\n       [[6.62815518e-01, 7.28544140e-01],\n        [6.62815518e-01, 9.02142681e-01],\n        [6.62815518e-01, 4.97096739e-01],\n        [6.62815518e-01, 3.81307697e-02],\n        [6.62815518e-01, 9.21313983e-01],\n        [6.62815518e-01, 9.19977390e-01],\n        [6.62815518e-01, 5.22468434e-01],\n        [6.62815518e-01, 9.67965004e-01],\n        [6.62815518e-01, 8.26043166e-01]],\n\n       [[6.62815518e-01, 6.78621959e-01],\n        [6.62815518e-01, 2.97675007e-01],\n        [6.62815518e-01, 5.70046586e-01],\n        [6.62815518e-01, 8.05228003e-01],\n        [6.62815518e-01, 5.47648519e-01],\n        [6.62815518e-01, 1.16775519e-01],\n        [6.62815518e-01, 2.08109417e-01],\n        [6.62815518e-01, 2.39045199e-01],\n        [6.62815518e-01, 3.99535806e-01]],\n\n       [[6.62815518e-01, 3.38197306e-01],\n        [6.62815518e-01, 4.87057752e-01],\n        [6.62815518e-01, 6.63489957e-01],\n        [6.62815518e-01, 6.01054032e-01],\n        [6.62815518e-01, 6.38146477e-01],\n        [6.62815518e-01, 8.21519363e-01],\n        [6.62815518e-01, 5.80932999e-01],\n        [6.62815518e-01, 9.73511809e-01],\n        [6.62815518e-01, 6.86813657e-01]],\n\n       [[6.62815518e-01, 2.45521242e-01],\n        [6.62815518e-01, 9.78460439e-01],\n        [6.62815518e-01, 4.01821198e-01],\n        [6.62815518e-01, 2.87272652e-01],\n        [6.62815518e-01, 7.22902044e-01],\n        [6.62815518e-01, 7.82299485e-01],\n        [6.62815518e-01, 9.73325435e-01],\n        [6.62815518e-01, 2.98633743e-01],\n        [6.62815518e-01, 1.18480469e-01]],\n\n       [[6.62815518e-01, 4.45690269e-01],\n        [6.62815518e-01, 5.53418195e-01],\n        [6.62815518e-01, 7.68472593e-01],\n        [6.62815518e-01, 3.29687940e-01],\n        [6.62815518e-01, 8.13106065e-01],\n        [6.62815518e-01, 7.46023809e-01],\n        [6.62815518e-01, 8.28473916e-01],\n        [6.62815518e-01, 9.54377987e-01],\n        [6.62815518e-01, 5.45369873e-01]],\n\n       [[6.62815518e-01, 4.87274250e-01],\n        [6.62815518e-01, 8.85147705e-01],\n        [6.62815518e-01, 7.19663993e-01],\n        [6.62815518e-01, 2.15141209e-01],\n        [6.62815518e-01, 1.70583960e-01],\n        [6.62815518e-01, 7.78230661e-01],\n        [6.62815518e-01, 5.09509024e-01],\n        [6.62815518e-01, 8.29073199e-01],\n        [6.62815518e-01, 1.20191940e-01]],\n\n       [[6.62815518e-01, 8.82788283e-01],\n        [6.62815518e-01, 3.56191108e-01],\n        [6.62815518e-01, 3.41245907e-01],\n        [6.62815518e-01, 5.40956989e-01],\n        [6.62815518e-01, 9.52984991e-02],\n        [6.62815518e-01, 6.56357123e-01],\n        [6.62815518e-01, 7.23217507e-01],\n        [6.62815518e-01, 8.85123083e-01],\n        [6.62815518e-01, 7.20945822e-01]],\n\n       [[6.62815518e-01, 7.22352567e-01],\n        [6.62815518e-01, 5.48962321e-01],\n        [6.62815518e-01, 6.57158570e-01],\n        [6.62815518e-01, 4.76624563e-01],\n        [6.62815518e-01, 3.96669012e-01],\n        [6.62815518e-01, 9.43572268e-01],\n        [6.62815518e-01, 1.98450879e-04],\n        [6.62815518e-01, 2.17621505e-01],\n        [6.62815518e-01, 8.47469396e-01]]])"
     },
     "execution_count": 8,
     "metadata": {},
     "output_type": "execute_result"
    }
   ],
   "source": [
    "tensor = np.stack([new_mat, random_mat], axis=2)\n",
    "tensor"
   ],
   "metadata": {
    "collapsed": false,
    "ExecuteTime": {
     "end_time": "2024-01-10T16:26:37.032275Z",
     "start_time": "2024-01-10T16:26:37.006677Z"
    }
   },
   "id": "96aac7b82d7ce093",
   "execution_count": 8
  },
  {
   "cell_type": "markdown",
   "source": [
    "8. Get the mean, sum, and standard deviation of the new matrices along the third dimension."
   ],
   "metadata": {
    "collapsed": false
   },
   "id": "c0e83820a4370bf7"
  },
  {
   "cell_type": "code",
   "outputs": [
    {
     "name": "stdout",
     "output_type": "stream",
     "text": [
      "mean_tensor \n",
      " [[0.70375646 0.63695289 0.65014774 0.48546501 0.36459808 0.63986551\n",
      "  0.51437796 0.5602976  0.51019357]\n",
      " [0.69567983 0.7824791  0.57995613 0.35047314 0.79206475 0.79139645\n",
      "  0.59264198 0.81539026 0.74442934]\n",
      " [0.67071874 0.48024526 0.61643105 0.73402176 0.60523202 0.38979552\n",
      "  0.43546247 0.45093036 0.53117566]\n",
      " [0.50050641 0.57493663 0.66315274 0.63193477 0.650481   0.74216744\n",
      "  0.62187426 0.81816366 0.67481459]\n",
      " [0.45416838 0.82063798 0.53231836 0.47504408 0.69285878 0.7225575\n",
      "  0.81807048 0.48072463 0.39064799]\n",
      " [0.55425289 0.60811686 0.71564406 0.49625173 0.73796079 0.70441966\n",
      "  0.74564472 0.80859675 0.6040927 ]\n",
      " [0.57504488 0.77398161 0.69123976 0.43897836 0.41669974 0.72052309\n",
      "  0.58616227 0.74594436 0.39150373]\n",
      " [0.7728019  0.50950331 0.50203071 0.60188625 0.37905701 0.65958632\n",
      "  0.69301651 0.7739693  0.69188067]\n",
      " [0.69258404 0.60588892 0.65998704 0.56972004 0.52974226 0.80319389\n",
      "  0.33150698 0.44021851 0.75514246]]\n",
      "sum_tensor \n",
      " [[1.40751292 1.27390579 1.30029547 0.97093001 0.72919615 1.27973102\n",
      "  1.02875593 1.12059519 1.02038714]\n",
      " [1.39135966 1.5649582  1.15991226 0.70094629 1.5841295  1.58279291\n",
      "  1.18528395 1.63078052 1.48885868]\n",
      " [1.34143748 0.96049052 1.2328621  1.46804352 1.21046404 0.77959104\n",
      "  0.87092493 0.90186072 1.06235132]\n",
      " [1.00101282 1.14987327 1.32630547 1.26386955 1.30096199 1.48433488\n",
      "  1.24374852 1.63632733 1.34962917]\n",
      " [0.90833676 1.64127596 1.06463672 0.95008817 1.38571756 1.445115\n",
      "  1.63614095 0.96144926 0.78129599]\n",
      " [1.10850579 1.21623371 1.43128811 0.99250346 1.47592158 1.40883933\n",
      "  1.49128943 1.6171935  1.20818539]\n",
      " [1.15008977 1.54796322 1.38247951 0.87795673 0.83339948 1.44104618\n",
      "  1.17232454 1.49188872 0.78300746]\n",
      " [1.5456038  1.01900663 1.00406142 1.20377251 0.75811402 1.31917264\n",
      "  1.38603303 1.5479386  1.38376134]\n",
      " [1.38516808 1.21177784 1.31997409 1.13944008 1.05948453 1.60638779\n",
      "  0.66301397 0.88043702 1.51028491]]\n",
      "std_tensor \n",
      " [[0.04094094 0.02586262 0.01266778 0.17735051 0.29821744 0.02295001\n",
      "  0.14843755 0.10251792 0.15262195]\n",
      " [0.03286431 0.11966358 0.08285939 0.31234237 0.12924923 0.12858094\n",
      "  0.07017354 0.15257474 0.08161382]\n",
      " [0.00790322 0.18257026 0.04638447 0.07120624 0.0575835  0.27302\n",
      "  0.22735305 0.21188516 0.13163986]\n",
      " [0.16230911 0.08787888 0.00033722 0.03088074 0.01233452 0.07935192\n",
      "  0.04094126 0.15534815 0.01199907]\n",
      " [0.20864714 0.15782246 0.13049716 0.18777143 0.03004326 0.05974198\n",
      "  0.15525496 0.18209089 0.27216752]\n",
      " [0.10856262 0.05469866 0.05282854 0.16656379 0.07514527 0.04160415\n",
      "  0.0828292  0.14578123 0.05872282]\n",
      " [0.08777063 0.11116609 0.02842424 0.22383715 0.24611578 0.05770757\n",
      "  0.07665325 0.08312884 0.27131179]\n",
      " [0.10998638 0.1533122  0.16078481 0.06092926 0.28375851 0.0032292\n",
      "  0.03020099 0.11115378 0.02906515]\n",
      " [0.02976852 0.0569266  0.00282847 0.09309548 0.13307325 0.14037838\n",
      "  0.33130853 0.22259701 0.09232694]]\n"
     ]
    }
   ],
   "source": [
    "mean_tensor = np.mean(tensor, axis=2)\n",
    "sum_tensor = np.sum(tensor, axis=2)\n",
    "std_tensor = np.std(tensor, axis=2)\n",
    "print('mean_tensor \\n', mean_tensor)\n",
    "print('sum_tensor \\n', sum_tensor)\n",
    "print('std_tensor \\n', std_tensor)"
   ],
   "metadata": {
    "collapsed": false,
    "ExecuteTime": {
     "end_time": "2024-01-10T16:26:37.032743Z",
     "start_time": "2024-01-10T16:26:37.011124Z"
    }
   },
   "id": "b5b32c68f4126a4f",
   "execution_count": 9
  },
  {
   "cell_type": "markdown",
   "source": [
    "9. Get all the indices of the array for which the value is greater than the mean."
   ],
   "metadata": {
    "collapsed": false
   },
   "id": "8e706a33cd22d1c8"
  },
  {
   "cell_type": "code",
   "outputs": [
    {
     "name": "stdout",
     "output_type": "stream",
     "text": [
      "[[0.93124426]\n",
      " [0.68043749]\n",
      " [0.69487052]\n",
      " [0.05134152]\n",
      " [0.97108857]\n",
      " [0.07861027]\n",
      " [0.4835629 ]\n",
      " [0.48677352]\n",
      " [0.02416514]]\n",
      "0.4891215759252964\n"
     ]
    },
    {
     "data": {
      "text/plain": "(array([0, 1, 2, 4]), array([0, 0, 0, 0]))"
     },
     "execution_count": 10,
     "metadata": {},
     "output_type": "execute_result"
    }
   ],
   "source": [
    "arr_mean = np.mean(arr)\n",
    "print(arr)\n",
    "print(arr_mean)\n",
    "indices_greater_than_mean = np.where(arr > np.mean(arr))\n",
    "indices_greater_than_mean"
   ],
   "metadata": {
    "collapsed": false,
    "ExecuteTime": {
     "end_time": "2024-01-10T16:26:37.033725Z",
     "start_time": "2024-01-10T16:26:37.016355Z"
    }
   },
   "id": "864d1d8630ec38ef",
   "execution_count": 10
  },
  {
   "cell_type": "markdown",
   "source": [
    "10. Replaces the values of items in these indices by 0.\n"
   ],
   "metadata": {
    "collapsed": false
   },
   "id": "e35034269278ca27"
  },
  {
   "cell_type": "code",
   "outputs": [
    {
     "data": {
      "text/plain": "array([[0.        ],\n       [0.        ],\n       [0.        ],\n       [0.05134152],\n       [0.        ],\n       [0.07861027],\n       [0.4835629 ],\n       [0.48677352],\n       [0.02416514]])"
     },
     "execution_count": 11,
     "metadata": {},
     "output_type": "execute_result"
    }
   ],
   "source": [
    "arr[indices_greater_than_mean] = 0\n",
    "arr "
   ],
   "metadata": {
    "collapsed": false,
    "ExecuteTime": {
     "end_time": "2024-01-10T16:26:37.034332Z",
     "start_time": "2024-01-10T16:26:37.019822Z"
    }
   },
   "id": "9943ec7675147a9b",
   "execution_count": 11
  },
  {
   "cell_type": "markdown",
   "source": [
    "11. Now, let’s benchmark vectorized numpy operations and see that they are actually faster."
   ],
   "metadata": {
    "collapsed": false
   },
   "id": "c680fa72a053c780"
  },
  {
   "cell_type": "markdown",
   "source": [
    "1. Create two random tensors of shape 512 × 512 × 3"
   ],
   "metadata": {
    "collapsed": false
   },
   "id": "e7b7412b09c212c4"
  },
  {
   "cell_type": "code",
   "outputs": [],
   "source": [
    "tensor_a = np.random.rand(512, 512, 3)\n",
    "tensor_b = np.random.rand(512, 512, 3)"
   ],
   "metadata": {
    "collapsed": false,
    "ExecuteTime": {
     "end_time": "2024-01-10T16:26:37.078024Z",
     "start_time": "2024-01-10T16:26:37.022860Z"
    }
   },
   "id": "2f2ec577e051d376",
   "execution_count": 12
  },
  {
   "cell_type": "markdown",
   "source": [
    "2. Multiply the two matrices, perform the multiplication once using numpy operations and once using\n",
    "a regular python loop."
   ],
   "metadata": {
    "collapsed": false
   },
   "id": "43c04d8303dae491"
  },
  {
   "cell_type": "code",
   "outputs": [],
   "source": [
    "def numpy_multiplication():\n",
    "    result = np.multiply(tensor_a, tensor_b)\n",
    "\n",
    "def python_loop_multiplication():\n",
    "    result = np.zeros_like(tensor_a)\n",
    "    for i in range(tensor_a.shape[0]):\n",
    "        for j in range(tensor_a.shape[1]):\n",
    "            for k in range(tensor_a.shape[2]):\n",
    "                result[i, j, k] = tensor_a[i, j, k] * tensor_b[i, j, k]\n"
   ],
   "metadata": {
    "collapsed": false,
    "ExecuteTime": {
     "end_time": "2024-01-10T16:26:37.079917Z",
     "start_time": "2024-01-10T16:26:37.032468Z"
    }
   },
   "id": "ef4881f77cfbb5bc",
   "execution_count": 13
  },
  {
   "cell_type": "markdown",
   "source": [
    "3. Repeat this 1000 times (this can be in a loop)"
   ],
   "metadata": {
    "collapsed": false
   },
   "id": "e3726869d4c9cba8"
  },
  {
   "cell_type": "code",
   "outputs": [],
   "source": [
    "import timeit"
   ],
   "metadata": {
    "collapsed": false,
    "ExecuteTime": {
     "end_time": "2024-01-10T16:26:37.080296Z",
     "start_time": "2024-01-10T16:26:37.035486Z"
    }
   },
   "id": "a1f6cf8647b9b03d",
   "execution_count": 14
  },
  {
   "cell_type": "markdown",
   "source": [
    "4. Time each of the multiplication methods to see what is faster"
   ],
   "metadata": {
    "collapsed": false
   },
   "id": "c1aa35bd3315787f"
  },
  {
   "cell_type": "code",
   "outputs": [
    {
     "name": "stdout",
     "output_type": "stream",
     "text": [
      "Numpy Multiplication Time: 0.734017 seconds\n",
      "Python Loop Multiplication Time: 225.965089 seconds\n"
     ]
    }
   ],
   "source": [
    "num_repeats = 1000\n",
    "numpy_time = timeit.timeit(numpy_multiplication, number=num_repeats)\n",
    "python_loop_time = timeit.timeit(python_loop_multiplication, number=num_repeats)\n",
    "\n",
    "print(f\"Numpy Multiplication Time: {numpy_time:.6f} seconds\")\n",
    "print(f\"Python Loop Multiplication Time: {python_loop_time:.6f} seconds\")"
   ],
   "metadata": {
    "collapsed": false,
    "ExecuteTime": {
     "end_time": "2024-01-10T16:30:23.698730Z",
     "start_time": "2024-01-10T16:26:37.038220Z"
    }
   },
   "id": "f24cfea13e753abf",
   "execution_count": 15
  },
  {
   "cell_type": "code",
   "outputs": [],
   "source": [],
   "metadata": {
    "collapsed": false,
    "ExecuteTime": {
     "end_time": "2024-01-10T16:30:23.701897Z",
     "start_time": "2024-01-10T16:30:23.699740Z"
    }
   },
   "id": "4753e957b1b3fa1b",
   "execution_count": 15
  }
 ],
 "metadata": {
  "kernelspec": {
   "display_name": "Python 3",
   "language": "python",
   "name": "python3"
  },
  "language_info": {
   "codemirror_mode": {
    "name": "ipython",
    "version": 2
   },
   "file_extension": ".py",
   "mimetype": "text/x-python",
   "name": "python",
   "nbconvert_exporter": "python",
   "pygments_lexer": "ipython2",
   "version": "2.7.6"
  }
 },
 "nbformat": 4,
 "nbformat_minor": 5
}
