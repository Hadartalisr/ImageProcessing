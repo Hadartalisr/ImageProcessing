{
 "cells": [
  {
   "cell_type": "code",
   "outputs": [],
   "source": [
    "import numpy as np\n",
    "import  matplotlib.pyplot as plt"
   ],
   "metadata": {
    "collapsed": false,
    "ExecuteTime": {
     "end_time": "2024-01-10T16:24:33.999668Z",
     "start_time": "2024-01-10T16:24:33.650743Z"
    }
   },
   "id": "29721a3a7c86b291",
   "execution_count": 1
  },
  {
   "cell_type": "markdown",
   "source": [
    "1. Create a numpy array of shape [9, 1] and fill it with random values."
   ],
   "metadata": {
    "collapsed": false
   },
   "id": "455cb2af9357a3cd"
  },
  {
   "cell_type": "code",
   "outputs": [
    {
     "data": {
      "text/plain": "array([[0.54021443],\n       [0.54922638],\n       [0.78433846],\n       [0.1256529 ],\n       [0.10852926],\n       [0.82307774],\n       [0.92759067],\n       [0.12331779],\n       [0.44947313]])"
     },
     "execution_count": 2,
     "metadata": {},
     "output_type": "execute_result"
    }
   ],
   "source": [
    "arr = np.random.rand(9, 1)\n",
    "arr"
   ],
   "metadata": {
    "collapsed": false,
    "ExecuteTime": {
     "end_time": "2024-01-10T16:24:34.009002Z",
     "start_time": "2024-01-10T16:24:33.999227Z"
    }
   },
   "id": "922bc2db769b6f40",
   "execution_count": 2
  },
  {
   "cell_type": "markdown",
   "source": [
    "2. Turn it into a 3 × 3 matrix."
   ],
   "metadata": {
    "collapsed": false
   },
   "id": "8ed9e679ef6b9ce2"
  },
  {
   "cell_type": "code",
   "outputs": [
    {
     "data": {
      "text/plain": "array([[0.54021443, 0.54922638, 0.78433846],\n       [0.1256529 , 0.10852926, 0.82307774],\n       [0.92759067, 0.12331779, 0.44947313]])"
     },
     "execution_count": 3,
     "metadata": {},
     "output_type": "execute_result"
    }
   ],
   "source": [
    "mat = arr.reshape(3,3)\n",
    "mat"
   ],
   "metadata": {
    "collapsed": false,
    "ExecuteTime": {
     "end_time": "2024-01-10T16:24:34.009482Z",
     "start_time": "2024-01-10T16:24:34.003248Z"
    }
   },
   "id": "3592b32e209f32d4",
   "execution_count": 3
  },
  {
   "cell_type": "markdown",
   "source": [
    "3. Print the shape and type of the matrix."
   ],
   "metadata": {
    "collapsed": false
   },
   "id": "26bc4a8d90aa4a51"
  },
  {
   "cell_type": "code",
   "outputs": [
    {
     "name": "stdout",
     "output_type": "stream",
     "text": [
      "Matrix Shape: (3, 3)\n",
      "Matrix Type: <class 'numpy.ndarray'>\n"
     ]
    }
   ],
   "source": [
    "print(\"Matrix Shape:\", mat.shape)\n",
    "print(\"Matrix Type:\", type(mat))"
   ],
   "metadata": {
    "collapsed": false,
    "ExecuteTime": {
     "end_time": "2024-01-10T16:24:34.029119Z",
     "start_time": "2024-01-10T16:24:34.007464Z"
    }
   },
   "id": "88f20ee777ee5a90",
   "execution_count": 4
  },
  {
   "cell_type": "markdown",
   "source": [
    "4. Get the first column of the matrix and multiply it by the third column of the matrix."
   ],
   "metadata": {
    "collapsed": false
   },
   "id": "9d6fec08e8f3c447"
  },
  {
   "cell_type": "code",
   "outputs": [
    {
     "data": {
      "text/plain": "0.9440601369846486"
     },
     "execution_count": 5,
     "metadata": {},
     "output_type": "execute_result"
    }
   ],
   "source": [
    "first_column = mat[:,0]\n",
    "third_column = mat[:,2]\n",
    "value = first_column @ third_column\n",
    "value"
   ],
   "metadata": {
    "collapsed": false,
    "ExecuteTime": {
     "end_time": "2024-01-10T16:24:34.029587Z",
     "start_time": "2024-01-10T16:24:34.010581Z"
    }
   },
   "id": "c62a7acdc8bdaeba",
   "execution_count": 5
  },
  {
   "cell_type": "markdown",
   "source": [
    "5. Create a new matrix of size [9, 9] and fill it with the value from the previous section."
   ],
   "metadata": {
    "collapsed": false
   },
   "id": "de019f4d44701a1a"
  },
  {
   "cell_type": "code",
   "outputs": [
    {
     "data": {
      "text/plain": "array([[0.94406014, 0.94406014, 0.94406014, 0.94406014, 0.94406014,\n        0.94406014, 0.94406014, 0.94406014, 0.94406014],\n       [0.94406014, 0.94406014, 0.94406014, 0.94406014, 0.94406014,\n        0.94406014, 0.94406014, 0.94406014, 0.94406014],\n       [0.94406014, 0.94406014, 0.94406014, 0.94406014, 0.94406014,\n        0.94406014, 0.94406014, 0.94406014, 0.94406014],\n       [0.94406014, 0.94406014, 0.94406014, 0.94406014, 0.94406014,\n        0.94406014, 0.94406014, 0.94406014, 0.94406014],\n       [0.94406014, 0.94406014, 0.94406014, 0.94406014, 0.94406014,\n        0.94406014, 0.94406014, 0.94406014, 0.94406014],\n       [0.94406014, 0.94406014, 0.94406014, 0.94406014, 0.94406014,\n        0.94406014, 0.94406014, 0.94406014, 0.94406014],\n       [0.94406014, 0.94406014, 0.94406014, 0.94406014, 0.94406014,\n        0.94406014, 0.94406014, 0.94406014, 0.94406014],\n       [0.94406014, 0.94406014, 0.94406014, 0.94406014, 0.94406014,\n        0.94406014, 0.94406014, 0.94406014, 0.94406014],\n       [0.94406014, 0.94406014, 0.94406014, 0.94406014, 0.94406014,\n        0.94406014, 0.94406014, 0.94406014, 0.94406014]])"
     },
     "execution_count": 6,
     "metadata": {},
     "output_type": "execute_result"
    }
   ],
   "source": [
    "new_mat = np.tile(value, (9,9))\n",
    "new_mat"
   ],
   "metadata": {
    "collapsed": false,
    "ExecuteTime": {
     "end_time": "2024-01-10T16:24:34.029899Z",
     "start_time": "2024-01-10T16:24:34.014927Z"
    }
   },
   "id": "d426f2921f1debeb",
   "execution_count": 6
  },
  {
   "cell_type": "markdown",
   "source": [
    "6. Create a new matrix of size [9, 9] and fill it with random values."
   ],
   "metadata": {
    "collapsed": false
   },
   "id": "8d9eadb6e32de2a8"
  },
  {
   "cell_type": "code",
   "outputs": [
    {
     "data": {
      "text/plain": "array([[0.43821769, 0.04356196, 0.4836324 , 0.89522323, 0.60100748,\n        0.39719864, 0.97805568, 0.20232325, 0.39615048],\n       [0.52753434, 0.95152427, 0.86160458, 0.53679587, 0.39685626,\n        0.62263291, 0.01492684, 0.27131909, 0.32033106],\n       [0.74528048, 0.32950387, 0.70255297, 0.6972777 , 0.30709271,\n        0.36778573, 0.68306663, 0.31198225, 0.37845452],\n       [0.81302953, 0.50871026, 0.42534121, 0.14779481, 0.02088415,\n        0.04436031, 0.83031677, 0.50490064, 0.09898121],\n       [0.41402752, 0.79502199, 0.46034213, 0.08964967, 0.9825416 ,\n        0.93563315, 0.40351079, 0.12200439, 0.76212225],\n       [0.11156276, 0.56451477, 0.47418467, 0.31227893, 0.38582548,\n        0.96065499, 0.26237547, 0.80320903, 0.35530449],\n       [0.9581677 , 0.8028129 , 0.67935868, 0.12458173, 0.14168307,\n        0.06946184, 0.25097508, 0.05910105, 0.52668139],\n       [0.289264  , 0.608538  , 0.53475153, 0.82536391, 0.20394404,\n        0.872322  , 0.04993114, 0.4234784 , 0.03063121],\n       [0.68245034, 0.01385543, 0.62850549, 0.93284209, 0.78554889,\n        0.12428322, 0.88410194, 0.67285438, 0.3377215 ]])"
     },
     "execution_count": 7,
     "metadata": {},
     "output_type": "execute_result"
    }
   ],
   "source": [
    "random_mat = np.random.rand(9,9)\n",
    "random_mat"
   ],
   "metadata": {
    "collapsed": false,
    "ExecuteTime": {
     "end_time": "2024-01-10T16:24:34.063329Z",
     "start_time": "2024-01-10T16:24:34.018910Z"
    }
   },
   "id": "cf13435804429b5f",
   "execution_count": 7
  },
  {
   "cell_type": "markdown",
   "source": [
    "7. Stack the two matrices along a new dimension to form a tensor of shape [9, 9, 2]."
   ],
   "metadata": {
    "collapsed": false
   },
   "id": "682d237b7ec3cec6"
  },
  {
   "cell_type": "code",
   "outputs": [
    {
     "data": {
      "text/plain": "array([[[0.94406014, 0.43821769],\n        [0.94406014, 0.04356196],\n        [0.94406014, 0.4836324 ],\n        [0.94406014, 0.89522323],\n        [0.94406014, 0.60100748],\n        [0.94406014, 0.39719864],\n        [0.94406014, 0.97805568],\n        [0.94406014, 0.20232325],\n        [0.94406014, 0.39615048]],\n\n       [[0.94406014, 0.52753434],\n        [0.94406014, 0.95152427],\n        [0.94406014, 0.86160458],\n        [0.94406014, 0.53679587],\n        [0.94406014, 0.39685626],\n        [0.94406014, 0.62263291],\n        [0.94406014, 0.01492684],\n        [0.94406014, 0.27131909],\n        [0.94406014, 0.32033106]],\n\n       [[0.94406014, 0.74528048],\n        [0.94406014, 0.32950387],\n        [0.94406014, 0.70255297],\n        [0.94406014, 0.6972777 ],\n        [0.94406014, 0.30709271],\n        [0.94406014, 0.36778573],\n        [0.94406014, 0.68306663],\n        [0.94406014, 0.31198225],\n        [0.94406014, 0.37845452]],\n\n       [[0.94406014, 0.81302953],\n        [0.94406014, 0.50871026],\n        [0.94406014, 0.42534121],\n        [0.94406014, 0.14779481],\n        [0.94406014, 0.02088415],\n        [0.94406014, 0.04436031],\n        [0.94406014, 0.83031677],\n        [0.94406014, 0.50490064],\n        [0.94406014, 0.09898121]],\n\n       [[0.94406014, 0.41402752],\n        [0.94406014, 0.79502199],\n        [0.94406014, 0.46034213],\n        [0.94406014, 0.08964967],\n        [0.94406014, 0.9825416 ],\n        [0.94406014, 0.93563315],\n        [0.94406014, 0.40351079],\n        [0.94406014, 0.12200439],\n        [0.94406014, 0.76212225]],\n\n       [[0.94406014, 0.11156276],\n        [0.94406014, 0.56451477],\n        [0.94406014, 0.47418467],\n        [0.94406014, 0.31227893],\n        [0.94406014, 0.38582548],\n        [0.94406014, 0.96065499],\n        [0.94406014, 0.26237547],\n        [0.94406014, 0.80320903],\n        [0.94406014, 0.35530449]],\n\n       [[0.94406014, 0.9581677 ],\n        [0.94406014, 0.8028129 ],\n        [0.94406014, 0.67935868],\n        [0.94406014, 0.12458173],\n        [0.94406014, 0.14168307],\n        [0.94406014, 0.06946184],\n        [0.94406014, 0.25097508],\n        [0.94406014, 0.05910105],\n        [0.94406014, 0.52668139]],\n\n       [[0.94406014, 0.289264  ],\n        [0.94406014, 0.608538  ],\n        [0.94406014, 0.53475153],\n        [0.94406014, 0.82536391],\n        [0.94406014, 0.20394404],\n        [0.94406014, 0.872322  ],\n        [0.94406014, 0.04993114],\n        [0.94406014, 0.4234784 ],\n        [0.94406014, 0.03063121]],\n\n       [[0.94406014, 0.68245034],\n        [0.94406014, 0.01385543],\n        [0.94406014, 0.62850549],\n        [0.94406014, 0.93284209],\n        [0.94406014, 0.78554889],\n        [0.94406014, 0.12428322],\n        [0.94406014, 0.88410194],\n        [0.94406014, 0.67285438],\n        [0.94406014, 0.3377215 ]]])"
     },
     "execution_count": 8,
     "metadata": {},
     "output_type": "execute_result"
    }
   ],
   "source": [
    "tensor = np.stack([new_mat, random_mat], axis=2)\n",
    "tensor"
   ],
   "metadata": {
    "collapsed": false,
    "ExecuteTime": {
     "end_time": "2024-01-10T16:24:34.063984Z",
     "start_time": "2024-01-10T16:24:34.022794Z"
    }
   },
   "id": "96aac7b82d7ce093",
   "execution_count": 8
  },
  {
   "cell_type": "markdown",
   "source": [
    "8. Get the mean, sum, and standard deviation of the new matrices along the third dimension."
   ],
   "metadata": {
    "collapsed": false
   },
   "id": "c0e83820a4370bf7"
  },
  {
   "cell_type": "code",
   "outputs": [
    {
     "name": "stdout",
     "output_type": "stream",
     "text": [
      "mean_tensor \n",
      " [[0.69113891 0.49381105 0.71384627 0.91964169 0.77253381 0.67062939\n",
      "  0.96105791 0.57319169 0.67010531]\n",
      " [0.73579724 0.9477922  0.90283236 0.740428   0.6704582  0.78334653\n",
      "  0.47949349 0.60768961 0.6321956 ]\n",
      " [0.84467031 0.636782   0.82330655 0.82066892 0.62557642 0.65592294\n",
      "  0.81356338 0.62802119 0.66125733]\n",
      " [0.87854483 0.7263852  0.68470067 0.54592747 0.48247214 0.49421022\n",
      "  0.88718845 0.72448039 0.52152068]\n",
      " [0.67904383 0.86954107 0.70220113 0.5168549  0.96330087 0.93984664\n",
      "  0.67378546 0.53303226 0.8530912 ]\n",
      " [0.52781145 0.75428745 0.7091224  0.62816953 0.66494281 0.95235756\n",
      "  0.6032178  0.87363459 0.64968232]\n",
      " [0.95111392 0.87343652 0.81170941 0.53432093 0.54287161 0.50676099\n",
      "  0.59751761 0.5015806  0.73537076]\n",
      " [0.61666207 0.77629907 0.73940583 0.88471202 0.57400209 0.90819107\n",
      "  0.49699564 0.68376927 0.48734568]\n",
      " [0.81325524 0.47895779 0.78628281 0.93845111 0.86480451 0.53417168\n",
      "  0.91408104 0.80845726 0.64089082]]\n",
      "sum_tensor \n",
      " [[1.38227783 0.9876221  1.42769254 1.83928337 1.54506762 1.34125878\n",
      "  1.92211582 1.14638338 1.34021062]\n",
      " [1.47159448 1.89558441 1.80566472 1.480856   1.3409164  1.56669305\n",
      "  0.95898698 1.21537923 1.26439119]\n",
      " [1.68934062 1.27356401 1.64661311 1.64133783 1.25115284 1.31184587\n",
      "  1.62712676 1.25604239 1.32251466]\n",
      " [1.75708967 1.45277039 1.36940135 1.09185495 0.96494429 0.98842045\n",
      "  1.77437691 1.44896077 1.04304135]\n",
      " [1.35808766 1.73908213 1.40440227 1.0337098  1.92660173 1.87969329\n",
      "  1.34757093 1.06606453 1.70618239]\n",
      " [1.0556229  1.50857491 1.41824481 1.25633907 1.32988561 1.90471513\n",
      "  1.2064356  1.74726917 1.29936463]\n",
      " [1.90222784 1.74687303 1.62341882 1.06864186 1.08574321 1.01352198\n",
      "  1.19503522 1.00316119 1.47074153]\n",
      " [1.23332413 1.55259813 1.47881167 1.76942405 1.14800418 1.81638214\n",
      "  0.99399128 1.36753853 0.97469135]\n",
      " [1.62651048 0.95791557 1.57256563 1.87690222 1.72960902 1.06834335\n",
      "  1.82816208 1.61691451 1.28178164]]\n",
      "std_tensor \n",
      " [[0.25292122 0.45024909 0.23021387 0.02441845 0.17152633 0.27343075\n",
      "  0.01699777 0.37086844 0.27395483]\n",
      " [0.2082629  0.00373207 0.04122778 0.20363213 0.27360194 0.16071361\n",
      "  0.46456665 0.33637052 0.31186454]\n",
      " [0.09938983 0.30727813 0.12075358 0.12339122 0.31848371 0.2881372\n",
      "  0.13049676 0.31603894 0.28280281]\n",
      " [0.0655153  0.21767494 0.25935946 0.39813266 0.46158799 0.44984991\n",
      "  0.05687168 0.21957975 0.42253946]\n",
      " [0.26501631 0.07451907 0.241859   0.42720523 0.01924073 0.00421349\n",
      "  0.27027467 0.41102787 0.09096894]\n",
      " [0.41624869 0.18977268 0.23493773 0.3158906  0.27911733 0.00829743\n",
      "  0.34084234 0.07042555 0.29437782]\n",
      " [0.00705378 0.07062362 0.13235073 0.40973921 0.40118853 0.43729915\n",
      "  0.34654253 0.44247954 0.20868937]\n",
      " [0.32739807 0.16776107 0.2046543  0.05934811 0.37005805 0.03586907\n",
      "  0.4470645  0.26029087 0.45671446]\n",
      " [0.1308049  0.46510235 0.15777732 0.00560902 0.07925563 0.40988846\n",
      "  0.0299791  0.13560288 0.30316932]]\n"
     ]
    }
   ],
   "source": [
    "mean_tensor = np.mean(tensor, axis=2)\n",
    "sum_tensor = np.sum(tensor, axis=2)\n",
    "std_tensor = np.std(tensor, axis=2)\n",
    "print('mean_tensor \\n', mean_tensor)\n",
    "print('sum_tensor \\n', sum_tensor)\n",
    "print('std_tensor \\n', std_tensor)"
   ],
   "metadata": {
    "collapsed": false,
    "ExecuteTime": {
     "end_time": "2024-01-10T16:24:34.064233Z",
     "start_time": "2024-01-10T16:24:34.026610Z"
    }
   },
   "id": "b5b32c68f4126a4f",
   "execution_count": 9
  },
  {
   "cell_type": "markdown",
   "source": [
    "9. Get all the indices of the array for which the value is greater than the mean."
   ],
   "metadata": {
    "collapsed": false
   },
   "id": "8e706a33cd22d1c8"
  },
  {
   "cell_type": "code",
   "outputs": [
    {
     "name": "stdout",
     "output_type": "stream",
     "text": [
      "[[0.54021443]\n",
      " [0.54922638]\n",
      " [0.78433846]\n",
      " [0.1256529 ]\n",
      " [0.10852926]\n",
      " [0.82307774]\n",
      " [0.92759067]\n",
      " [0.12331779]\n",
      " [0.44947313]]\n",
      "0.49238008375369813\n"
     ]
    },
    {
     "data": {
      "text/plain": "(array([0, 1, 2, 5, 6]), array([0, 0, 0, 0, 0]))"
     },
     "execution_count": 10,
     "metadata": {},
     "output_type": "execute_result"
    }
   ],
   "source": [
    "arr_mean = np.mean(arr)\n",
    "print(arr)\n",
    "print(arr_mean)\n",
    "indices_greater_than_mean = np.where(arr > np.mean(arr))\n",
    "indices_greater_than_mean"
   ],
   "metadata": {
    "collapsed": false,
    "ExecuteTime": {
     "end_time": "2024-01-10T16:24:34.065453Z",
     "start_time": "2024-01-10T16:24:34.031725Z"
    }
   },
   "id": "864d1d8630ec38ef",
   "execution_count": 10
  },
  {
   "cell_type": "markdown",
   "source": [
    "10. Replaces the values of items in these indices by 0.\n"
   ],
   "metadata": {
    "collapsed": false
   },
   "id": "e35034269278ca27"
  },
  {
   "cell_type": "code",
   "outputs": [
    {
     "data": {
      "text/plain": "array([[0.        ],\n       [0.        ],\n       [0.        ],\n       [0.1256529 ],\n       [0.10852926],\n       [0.        ],\n       [0.        ],\n       [0.12331779],\n       [0.44947313]])"
     },
     "execution_count": 11,
     "metadata": {},
     "output_type": "execute_result"
    }
   ],
   "source": [
    "arr[indices_greater_than_mean] = 0\n",
    "arr "
   ],
   "metadata": {
    "collapsed": false,
    "ExecuteTime": {
     "end_time": "2024-01-10T16:24:34.072555Z",
     "start_time": "2024-01-10T16:24:34.035203Z"
    }
   },
   "id": "9943ec7675147a9b",
   "execution_count": 11
  },
  {
   "cell_type": "markdown",
   "source": [
    "11. Now, let’s benchmark vectorized numpy operations and see that they are actually faster."
   ],
   "metadata": {
    "collapsed": false
   },
   "id": "c680fa72a053c780"
  },
  {
   "cell_type": "markdown",
   "source": [
    "1. Create two random tensors of shape 512 × 512 × 3"
   ],
   "metadata": {
    "collapsed": false
   },
   "id": "e7b7412b09c212c4"
  },
  {
   "cell_type": "code",
   "outputs": [],
   "source": [
    "tensor_a = np.random.rand(512, 512, 3)\n",
    "tensor_b = np.random.rand(512, 512, 3)"
   ],
   "metadata": {
    "collapsed": false,
    "ExecuteTime": {
     "end_time": "2024-01-10T16:24:34.077878Z",
     "start_time": "2024-01-10T16:24:34.038234Z"
    }
   },
   "id": "2f2ec577e051d376",
   "execution_count": 12
  },
  {
   "cell_type": "markdown",
   "source": [
    "2. Multiply the two matrices, perform the multiplication once using numpy operations and once using\n",
    "a regular python loop."
   ],
   "metadata": {
    "collapsed": false
   },
   "id": "43c04d8303dae491"
  },
  {
   "cell_type": "code",
   "outputs": [],
   "source": [
    "def numpy_multiplication():\n",
    "    result = np.multiply(tensor_a, tensor_b)\n",
    "\n",
    "def python_loop_multiplication():\n",
    "    result = np.zeros_like(tensor_a)\n",
    "    for i in range(tensor_a.shape[0]):\n",
    "        for j in range(tensor_a.shape[1]):\n",
    "            for k in range(tensor_a.shape[2]):\n",
    "                result[i, j, k] = tensor_a[i, j, k] * tensor_b[i, j, k]\n"
   ],
   "metadata": {
    "collapsed": false,
    "ExecuteTime": {
     "end_time": "2024-01-10T16:24:34.078274Z",
     "start_time": "2024-01-10T16:24:34.048177Z"
    }
   },
   "id": "ef4881f77cfbb5bc",
   "execution_count": 13
  },
  {
   "cell_type": "markdown",
   "source": [
    "3. Repeat this 1000 times (this can be in a loop)"
   ],
   "metadata": {
    "collapsed": false
   },
   "id": "e3726869d4c9cba8"
  },
  {
   "cell_type": "code",
   "outputs": [],
   "source": [
    "import timeit"
   ],
   "metadata": {
    "collapsed": false,
    "ExecuteTime": {
     "end_time": "2024-01-10T16:24:34.078477Z",
     "start_time": "2024-01-10T16:24:34.050708Z"
    }
   },
   "id": "a1f6cf8647b9b03d",
   "execution_count": 14
  },
  {
   "cell_type": "markdown",
   "source": [
    "4. Time each of the multiplication methods to see what is faster"
   ],
   "metadata": {
    "collapsed": false
   },
   "id": "c1aa35bd3315787f"
  },
  {
   "cell_type": "code",
   "outputs": [],
   "source": [
    "num_repeats = 1000\n",
    "numpy_time = timeit.timeit(numpy_multiplication, number=num_repeats)\n",
    "python_loop_time = timeit.timeit(python_loop_multiplication, number=num_repeats)\n",
    "\n",
    "print(f\"Numpy Multiplication Time: {numpy_time:.6f} seconds\")\n",
    "print(f\"Python Loop Multiplication Time: {python_loop_time:.6f} seconds\")"
   ],
   "metadata": {
    "collapsed": false,
    "is_executing": true,
    "ExecuteTime": {
     "start_time": "2024-01-10T16:24:34.053601Z"
    }
   },
   "id": "f24cfea13e753abf",
   "execution_count": null
  },
  {
   "cell_type": "code",
   "outputs": [],
   "source": [],
   "metadata": {
    "collapsed": false,
    "is_executing": true
   },
   "id": "4753e957b1b3fa1b"
  }
 ],
 "metadata": {
  "kernelspec": {
   "display_name": "Python 3",
   "language": "python",
   "name": "python3"
  },
  "language_info": {
   "codemirror_mode": {
    "name": "ipython",
    "version": 2
   },
   "file_extension": ".py",
   "mimetype": "text/x-python",
   "name": "python",
   "nbconvert_exporter": "python",
   "pygments_lexer": "ipython2",
   "version": "2.7.6"
  }
 },
 "nbformat": 4,
 "nbformat_minor": 5
}
