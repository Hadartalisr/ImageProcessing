{
 "cells": [
  {
   "cell_type": "code",
   "outputs": [],
   "source": [
    "import numpy as np\n",
    "import  matplotlib.pyplot as plt"
   ],
   "metadata": {
    "collapsed": false,
    "ExecuteTime": {
     "end_time": "2024-01-12T19:55:23.145546Z",
     "start_time": "2024-01-12T19:55:22.894572Z"
    }
   },
   "id": "29721a3a7c86b291",
   "execution_count": 1
  },
  {
   "cell_type": "markdown",
   "source": [
    "1. Create a numpy array of shape [9, 1] and fill it with random values."
   ],
   "metadata": {
    "collapsed": false
   },
   "id": "455cb2af9357a3cd"
  },
  {
   "cell_type": "code",
   "outputs": [
    {
     "data": {
      "text/plain": "array([[0.83260858],\n       [0.10685608],\n       [0.76709498],\n       [0.95843692],\n       [0.46120334],\n       [0.27633042],\n       [0.53728614],\n       [0.6903074 ],\n       [0.45973653]])"
     },
     "execution_count": 2,
     "metadata": {},
     "output_type": "execute_result"
    }
   ],
   "source": [
    "arr = np.random.rand(9, 1)\n",
    "arr"
   ],
   "metadata": {
    "collapsed": false,
    "ExecuteTime": {
     "end_time": "2024-01-12T19:55:23.169197Z",
     "start_time": "2024-01-12T19:55:23.160291Z"
    }
   },
   "id": "922bc2db769b6f40",
   "execution_count": 2
  },
  {
   "cell_type": "markdown",
   "source": [
    "2. Turn it into a 3 × 3 matrix."
   ],
   "metadata": {
    "collapsed": false
   },
   "id": "8ed9e679ef6b9ce2"
  },
  {
   "cell_type": "code",
   "outputs": [
    {
     "data": {
      "text/plain": "array([[0.83260858, 0.10685608, 0.76709498],\n       [0.95843692, 0.46120334, 0.27633042],\n       [0.53728614, 0.6903074 , 0.45973653]])"
     },
     "execution_count": 3,
     "metadata": {},
     "output_type": "execute_result"
    }
   ],
   "source": [
    "mat = arr.reshape(3,3)\n",
    "mat"
   ],
   "metadata": {
    "collapsed": false,
    "ExecuteTime": {
     "end_time": "2024-01-12T19:55:23.173280Z",
     "start_time": "2024-01-12T19:55:23.170005Z"
    }
   },
   "id": "3592b32e209f32d4",
   "execution_count": 3
  },
  {
   "cell_type": "markdown",
   "source": [
    "3. Print the shape and type of the matrix."
   ],
   "metadata": {
    "collapsed": false
   },
   "id": "26bc4a8d90aa4a51"
  },
  {
   "cell_type": "code",
   "outputs": [
    {
     "name": "stdout",
     "output_type": "stream",
     "text": [
      "Matrix Shape: (3, 3)\n",
      "Matrix Type: <class 'numpy.ndarray'>\n"
     ]
    }
   ],
   "source": [
    "print(\"Matrix Shape:\", mat.shape)\n",
    "print(\"Matrix Type:\", type(mat))"
   ],
   "metadata": {
    "collapsed": false,
    "ExecuteTime": {
     "end_time": "2024-01-12T19:55:23.177212Z",
     "start_time": "2024-01-12T19:55:23.173050Z"
    }
   },
   "id": "88f20ee777ee5a90",
   "execution_count": 4
  },
  {
   "cell_type": "markdown",
   "source": [
    "4. Get the first column of the matrix and multiply it by the third column of the matrix."
   ],
   "metadata": {
    "collapsed": false
   },
   "id": "9d6fec08e8f3c447"
  },
  {
   "cell_type": "code",
   "outputs": [
    {
     "data": {
      "text/plain": "1.1505452048655285"
     },
     "execution_count": 5,
     "metadata": {},
     "output_type": "execute_result"
    }
   ],
   "source": [
    "first_column = mat[:,0]\n",
    "third_column = mat[:,2]\n",
    "value = first_column @ third_column\n",
    "value"
   ],
   "metadata": {
    "collapsed": false,
    "ExecuteTime": {
     "end_time": "2024-01-12T19:55:23.180173Z",
     "start_time": "2024-01-12T19:55:23.176948Z"
    }
   },
   "id": "c62a7acdc8bdaeba",
   "execution_count": 5
  },
  {
   "cell_type": "markdown",
   "source": [
    "5. Create a new matrix of size [9, 9] and fill it with the value from the previous section."
   ],
   "metadata": {
    "collapsed": false
   },
   "id": "de019f4d44701a1a"
  },
  {
   "cell_type": "code",
   "outputs": [
    {
     "data": {
      "text/plain": "array([[1.1505452, 1.1505452, 1.1505452, 1.1505452, 1.1505452, 1.1505452,\n        1.1505452, 1.1505452, 1.1505452],\n       [1.1505452, 1.1505452, 1.1505452, 1.1505452, 1.1505452, 1.1505452,\n        1.1505452, 1.1505452, 1.1505452],\n       [1.1505452, 1.1505452, 1.1505452, 1.1505452, 1.1505452, 1.1505452,\n        1.1505452, 1.1505452, 1.1505452],\n       [1.1505452, 1.1505452, 1.1505452, 1.1505452, 1.1505452, 1.1505452,\n        1.1505452, 1.1505452, 1.1505452],\n       [1.1505452, 1.1505452, 1.1505452, 1.1505452, 1.1505452, 1.1505452,\n        1.1505452, 1.1505452, 1.1505452],\n       [1.1505452, 1.1505452, 1.1505452, 1.1505452, 1.1505452, 1.1505452,\n        1.1505452, 1.1505452, 1.1505452],\n       [1.1505452, 1.1505452, 1.1505452, 1.1505452, 1.1505452, 1.1505452,\n        1.1505452, 1.1505452, 1.1505452],\n       [1.1505452, 1.1505452, 1.1505452, 1.1505452, 1.1505452, 1.1505452,\n        1.1505452, 1.1505452, 1.1505452],\n       [1.1505452, 1.1505452, 1.1505452, 1.1505452, 1.1505452, 1.1505452,\n        1.1505452, 1.1505452, 1.1505452]])"
     },
     "execution_count": 6,
     "metadata": {},
     "output_type": "execute_result"
    }
   ],
   "source": [
    "new_mat = np.tile(value, (9,9))\n",
    "new_mat"
   ],
   "metadata": {
    "collapsed": false,
    "ExecuteTime": {
     "end_time": "2024-01-12T19:55:23.183464Z",
     "start_time": "2024-01-12T19:55:23.180547Z"
    }
   },
   "id": "d426f2921f1debeb",
   "execution_count": 6
  },
  {
   "cell_type": "markdown",
   "source": [
    "6. Create a new matrix of size [9, 9] and fill it with random values."
   ],
   "metadata": {
    "collapsed": false
   },
   "id": "8d9eadb6e32de2a8"
  },
  {
   "cell_type": "code",
   "outputs": [
    {
     "data": {
      "text/plain": "array([[0.62983687, 0.56704253, 0.21549677, 0.14780709, 0.36193787,\n        0.48151825, 0.0871118 , 0.19899817, 0.14082204],\n       [0.02284472, 0.35584064, 0.66968809, 0.38466931, 0.59469865,\n        0.99499283, 0.6020251 , 0.12217705, 0.59956907],\n       [0.23386894, 0.31346811, 0.21367375, 0.94251283, 0.22658937,\n        0.21998533, 0.2872629 , 0.10808793, 0.02692558],\n       [0.46456873, 0.50947743, 0.1913324 , 0.59325147, 0.71440023,\n        0.84393411, 0.86982854, 0.20000049, 0.02733598],\n       [0.94168341, 0.4767003 , 0.98714832, 0.73339018, 0.14967572,\n        0.63254732, 0.64662681, 0.24103421, 0.53342605],\n       [0.13293596, 0.22528108, 0.79130127, 0.11755997, 0.66589823,\n        0.48326029, 0.25198296, 0.88762679, 0.6376232 ],\n       [0.90039555, 0.26658706, 0.14626672, 0.07541214, 0.85404734,\n        0.19066866, 0.52006736, 0.41093315, 0.1745076 ],\n       [0.2550051 , 0.30813321, 0.3269348 , 0.575349  , 0.86021945,\n        0.68395552, 0.51222236, 0.55938583, 0.33271331],\n       [0.53210562, 0.27876941, 0.54836804, 0.98768322, 0.79246092,\n        0.02931665, 0.41537355, 0.46826579, 0.58418646]])"
     },
     "execution_count": 7,
     "metadata": {},
     "output_type": "execute_result"
    }
   ],
   "source": [
    "random_mat = np.random.rand(9,9)\n",
    "random_mat"
   ],
   "metadata": {
    "collapsed": false,
    "ExecuteTime": {
     "end_time": "2024-01-12T19:55:23.186772Z",
     "start_time": "2024-01-12T19:55:23.183777Z"
    }
   },
   "id": "cf13435804429b5f",
   "execution_count": 7
  },
  {
   "cell_type": "markdown",
   "source": [
    "7. Stack the two matrices along a new dimension to form a tensor of shape [9, 9, 2]."
   ],
   "metadata": {
    "collapsed": false
   },
   "id": "682d237b7ec3cec6"
  },
  {
   "cell_type": "code",
   "outputs": [
    {
     "data": {
      "text/plain": "array([[[1.1505452 , 0.62983687],\n        [1.1505452 , 0.56704253],\n        [1.1505452 , 0.21549677],\n        [1.1505452 , 0.14780709],\n        [1.1505452 , 0.36193787],\n        [1.1505452 , 0.48151825],\n        [1.1505452 , 0.0871118 ],\n        [1.1505452 , 0.19899817],\n        [1.1505452 , 0.14082204]],\n\n       [[1.1505452 , 0.02284472],\n        [1.1505452 , 0.35584064],\n        [1.1505452 , 0.66968809],\n        [1.1505452 , 0.38466931],\n        [1.1505452 , 0.59469865],\n        [1.1505452 , 0.99499283],\n        [1.1505452 , 0.6020251 ],\n        [1.1505452 , 0.12217705],\n        [1.1505452 , 0.59956907]],\n\n       [[1.1505452 , 0.23386894],\n        [1.1505452 , 0.31346811],\n        [1.1505452 , 0.21367375],\n        [1.1505452 , 0.94251283],\n        [1.1505452 , 0.22658937],\n        [1.1505452 , 0.21998533],\n        [1.1505452 , 0.2872629 ],\n        [1.1505452 , 0.10808793],\n        [1.1505452 , 0.02692558]],\n\n       [[1.1505452 , 0.46456873],\n        [1.1505452 , 0.50947743],\n        [1.1505452 , 0.1913324 ],\n        [1.1505452 , 0.59325147],\n        [1.1505452 , 0.71440023],\n        [1.1505452 , 0.84393411],\n        [1.1505452 , 0.86982854],\n        [1.1505452 , 0.20000049],\n        [1.1505452 , 0.02733598]],\n\n       [[1.1505452 , 0.94168341],\n        [1.1505452 , 0.4767003 ],\n        [1.1505452 , 0.98714832],\n        [1.1505452 , 0.73339018],\n        [1.1505452 , 0.14967572],\n        [1.1505452 , 0.63254732],\n        [1.1505452 , 0.64662681],\n        [1.1505452 , 0.24103421],\n        [1.1505452 , 0.53342605]],\n\n       [[1.1505452 , 0.13293596],\n        [1.1505452 , 0.22528108],\n        [1.1505452 , 0.79130127],\n        [1.1505452 , 0.11755997],\n        [1.1505452 , 0.66589823],\n        [1.1505452 , 0.48326029],\n        [1.1505452 , 0.25198296],\n        [1.1505452 , 0.88762679],\n        [1.1505452 , 0.6376232 ]],\n\n       [[1.1505452 , 0.90039555],\n        [1.1505452 , 0.26658706],\n        [1.1505452 , 0.14626672],\n        [1.1505452 , 0.07541214],\n        [1.1505452 , 0.85404734],\n        [1.1505452 , 0.19066866],\n        [1.1505452 , 0.52006736],\n        [1.1505452 , 0.41093315],\n        [1.1505452 , 0.1745076 ]],\n\n       [[1.1505452 , 0.2550051 ],\n        [1.1505452 , 0.30813321],\n        [1.1505452 , 0.3269348 ],\n        [1.1505452 , 0.575349  ],\n        [1.1505452 , 0.86021945],\n        [1.1505452 , 0.68395552],\n        [1.1505452 , 0.51222236],\n        [1.1505452 , 0.55938583],\n        [1.1505452 , 0.33271331]],\n\n       [[1.1505452 , 0.53210562],\n        [1.1505452 , 0.27876941],\n        [1.1505452 , 0.54836804],\n        [1.1505452 , 0.98768322],\n        [1.1505452 , 0.79246092],\n        [1.1505452 , 0.02931665],\n        [1.1505452 , 0.41537355],\n        [1.1505452 , 0.46826579],\n        [1.1505452 , 0.58418646]]])"
     },
     "execution_count": 8,
     "metadata": {},
     "output_type": "execute_result"
    }
   ],
   "source": [
    "tensor = np.stack([new_mat, random_mat], axis=2)\n",
    "tensor"
   ],
   "metadata": {
    "collapsed": false,
    "ExecuteTime": {
     "end_time": "2024-01-12T19:55:23.214108Z",
     "start_time": "2024-01-12T19:55:23.187395Z"
    }
   },
   "id": "96aac7b82d7ce093",
   "execution_count": 8
  },
  {
   "cell_type": "markdown",
   "source": [
    "8. Get the mean, sum, and standard deviation of the new matrices along the third dimension."
   ],
   "metadata": {
    "collapsed": false
   },
   "id": "c0e83820a4370bf7"
  },
  {
   "cell_type": "code",
   "outputs": [
    {
     "name": "stdout",
     "output_type": "stream",
     "text": [
      "mean_tensor \n",
      " [[0.89019104 0.85879387 0.68302099 0.64917615 0.75624154 0.81603173\n",
      "  0.6188285  0.67477169 0.64568362]\n",
      " [0.58669496 0.75319292 0.91011665 0.76760726 0.87262193 1.07276902\n",
      "  0.87628515 0.63636113 0.87505714]\n",
      " [0.69220707 0.73200666 0.68210948 1.04652902 0.68856729 0.68526527\n",
      "  0.71890405 0.62931657 0.58873539]\n",
      " [0.80755697 0.83001132 0.6709388  0.87189834 0.93247272 0.99723966\n",
      "  1.01018687 0.67527285 0.58894059]\n",
      " [1.04611431 0.81362275 1.06884676 0.94196769 0.65011046 0.89154626\n",
      "  0.89858601 0.69578971 0.84198563]\n",
      " [0.64174058 0.68791314 0.97092324 0.63405259 0.90822172 0.81690275\n",
      "  0.70126408 1.019086   0.8940842 ]\n",
      " [1.02547038 0.70856613 0.64840596 0.61297867 1.00229627 0.67060693\n",
      "  0.83530628 0.78073918 0.6625264 ]\n",
      " [0.70277515 0.72933921 0.73874    0.8629471  1.00538233 0.91725036\n",
      "  0.83138378 0.85496552 0.74162926]\n",
      " [0.84132541 0.71465731 0.84945662 1.06911421 0.97150306 0.58993093\n",
      "  0.78295938 0.8094055  0.86736583]]\n",
      "sum_tensor \n",
      " [[1.78038208 1.71758773 1.36604197 1.29835229 1.51248307 1.63206345\n",
      "  1.23765701 1.34954337 1.29136725]\n",
      " [1.17338992 1.50638585 1.82023329 1.53521451 1.74524386 2.14553804\n",
      "  1.75257031 1.27272225 1.75011427]\n",
      " [1.38441415 1.46401331 1.36421895 2.09305804 1.37713457 1.37053054\n",
      "  1.43780811 1.25863313 1.17747078]\n",
      " [1.61511394 1.66002263 1.34187761 1.74379668 1.86494543 1.99447931\n",
      "  2.02037375 1.3505457  1.17788118]\n",
      " [2.09222861 1.62724551 2.13769353 1.88393538 1.30022092 1.78309253\n",
      "  1.79717202 1.39157941 1.68397126]\n",
      " [1.28348116 1.37582629 1.94184647 1.26810518 1.81644344 1.6338055\n",
      "  1.40252817 2.03817199 1.78816841]\n",
      " [2.05094075 1.41713227 1.29681193 1.22595735 2.00459255 1.34121387\n",
      "  1.67061257 1.56147835 1.3250528 ]\n",
      " [1.40555031 1.45867842 1.47748001 1.72589421 2.01076465 1.83450073\n",
      "  1.66276756 1.70993103 1.48325851]\n",
      " [1.68265082 1.42931462 1.69891325 2.13822842 1.94300613 1.17986186\n",
      "  1.56591876 1.61881099 1.73473167]]\n",
      "std_tensor \n",
      " [[0.26035417 0.29175134 0.46752422 0.50136906 0.39430367 0.33451348\n",
      "  0.5317167  0.47577352 0.50486158]\n",
      " [0.56385024 0.39735228 0.24042856 0.38293795 0.27792328 0.07777619\n",
      "  0.27426005 0.51418408 0.27548807]\n",
      " [0.45833813 0.41853855 0.46843573 0.10401619 0.46197792 0.46527994\n",
      "  0.43164115 0.52122864 0.56180981]\n",
      " [0.34298824 0.32053389 0.4796064  0.27864687 0.21807249 0.15330555\n",
      "  0.14035833 0.47527236 0.56160461]\n",
      " [0.1044309  0.33692245 0.08169844 0.20857751 0.50043474 0.25899894\n",
      "  0.2519592  0.4547555  0.30855958]\n",
      " [0.50880462 0.46263206 0.17962197 0.51649262 0.24232349 0.33364246\n",
      "  0.44928112 0.13145921 0.256461  ]\n",
      " [0.12507483 0.44197907 0.50213924 0.53756653 0.14824893 0.47993827\n",
      "  0.31523892 0.36980603 0.4880188 ]\n",
      " [0.44777005 0.421206   0.4118052  0.2875981  0.14516288 0.23329484\n",
      "  0.31916142 0.29557969 0.40891595]\n",
      " [0.30921979 0.4358879  0.30108858 0.08143099 0.17904214 0.56061428\n",
      "  0.36758583 0.34113971 0.28317937]]\n"
     ]
    }
   ],
   "source": [
    "mean_tensor = np.mean(tensor, axis=2)\n",
    "sum_tensor = np.sum(tensor, axis=2)\n",
    "std_tensor = np.std(tensor, axis=2)\n",
    "print('mean_tensor \\n', mean_tensor)\n",
    "print('sum_tensor \\n', sum_tensor)\n",
    "print('std_tensor \\n', std_tensor)"
   ],
   "metadata": {
    "collapsed": false,
    "ExecuteTime": {
     "end_time": "2024-01-12T19:55:23.214702Z",
     "start_time": "2024-01-12T19:55:23.191427Z"
    }
   },
   "id": "b5b32c68f4126a4f",
   "execution_count": 9
  },
  {
   "cell_type": "markdown",
   "source": [
    "9. Get all the indices of the array for which the value is greater than the mean."
   ],
   "metadata": {
    "collapsed": false
   },
   "id": "8e706a33cd22d1c8"
  },
  {
   "cell_type": "code",
   "outputs": [
    {
     "name": "stdout",
     "output_type": "stream",
     "text": [
      "[[0.83260858]\n",
      " [0.10685608]\n",
      " [0.76709498]\n",
      " [0.95843692]\n",
      " [0.46120334]\n",
      " [0.27633042]\n",
      " [0.53728614]\n",
      " [0.6903074 ]\n",
      " [0.45973653]]\n",
      "0.5655400432118686\n"
     ]
    },
    {
     "data": {
      "text/plain": "(array([0, 2, 3, 7]), array([0, 0, 0, 0]))"
     },
     "execution_count": 10,
     "metadata": {},
     "output_type": "execute_result"
    }
   ],
   "source": [
    "arr_mean = np.mean(arr)\n",
    "print(arr)\n",
    "print(arr_mean)\n",
    "indices_greater_than_mean = np.where(arr > np.mean(arr))\n",
    "indices_greater_than_mean"
   ],
   "metadata": {
    "collapsed": false,
    "ExecuteTime": {
     "end_time": "2024-01-12T19:55:23.215038Z",
     "start_time": "2024-01-12T19:55:23.194712Z"
    }
   },
   "id": "864d1d8630ec38ef",
   "execution_count": 10
  },
  {
   "cell_type": "markdown",
   "source": [
    "10. Replaces the values of items in these indices by 0.\n"
   ],
   "metadata": {
    "collapsed": false
   },
   "id": "e35034269278ca27"
  },
  {
   "cell_type": "code",
   "outputs": [
    {
     "data": {
      "text/plain": "array([[0.        ],\n       [0.10685608],\n       [0.        ],\n       [0.        ],\n       [0.46120334],\n       [0.27633042],\n       [0.53728614],\n       [0.        ],\n       [0.45973653]])"
     },
     "execution_count": 11,
     "metadata": {},
     "output_type": "execute_result"
    }
   ],
   "source": [
    "arr[indices_greater_than_mean] = 0\n",
    "arr "
   ],
   "metadata": {
    "collapsed": false,
    "ExecuteTime": {
     "end_time": "2024-01-12T19:55:23.215316Z",
     "start_time": "2024-01-12T19:55:23.197292Z"
    }
   },
   "id": "9943ec7675147a9b",
   "execution_count": 11
  },
  {
   "cell_type": "markdown",
   "source": [
    "11. Now, let’s benchmark vectorized numpy operations and see that they are actually faster."
   ],
   "metadata": {
    "collapsed": false
   },
   "id": "c680fa72a053c780"
  },
  {
   "cell_type": "markdown",
   "source": [
    "1. Create two random tensors of shape 512 × 512 × 3"
   ],
   "metadata": {
    "collapsed": false
   },
   "id": "e7b7412b09c212c4"
  },
  {
   "cell_type": "code",
   "outputs": [],
   "source": [
    "tensor_a = np.random.rand(512, 512, 3)\n",
    "tensor_b = np.random.rand(512, 512, 3)"
   ],
   "metadata": {
    "collapsed": false,
    "ExecuteTime": {
     "end_time": "2024-01-12T19:55:23.215589Z",
     "start_time": "2024-01-12T19:55:23.200727Z"
    }
   },
   "id": "2f2ec577e051d376",
   "execution_count": 12
  },
  {
   "cell_type": "markdown",
   "source": [
    "2. Multiply the two matrices, perform the multiplication once using numpy operations and once using\n",
    "a regular python loop."
   ],
   "metadata": {
    "collapsed": false
   },
   "id": "43c04d8303dae491"
  },
  {
   "cell_type": "code",
   "outputs": [],
   "source": [
    "def numpy_multiplication():\n",
    "    result = np.multiply(tensor_a, tensor_b)\n",
    "\n",
    "def python_loop_multiplication():\n",
    "    result = np.zeros_like(tensor_a)\n",
    "    for i in range(tensor_a.shape[0]):\n",
    "        for j in range(tensor_a.shape[1]):\n",
    "            for k in range(tensor_a.shape[2]):\n",
    "                result[i, j, k] = tensor_a[i, j, k] * tensor_b[i, j, k]\n"
   ],
   "metadata": {
    "collapsed": false,
    "ExecuteTime": {
     "end_time": "2024-01-12T19:55:23.241927Z",
     "start_time": "2024-01-12T19:55:23.210323Z"
    }
   },
   "id": "ef4881f77cfbb5bc",
   "execution_count": 13
  },
  {
   "cell_type": "markdown",
   "source": [
    "3. Repeat this 1000 times (this can be in a loop)"
   ],
   "metadata": {
    "collapsed": false
   },
   "id": "e3726869d4c9cba8"
  },
  {
   "cell_type": "code",
   "outputs": [],
   "source": [
    "import timeit"
   ],
   "metadata": {
    "collapsed": false,
    "ExecuteTime": {
     "end_time": "2024-01-12T19:55:23.243687Z",
     "start_time": "2024-01-12T19:55:23.214153Z"
    }
   },
   "id": "a1f6cf8647b9b03d",
   "execution_count": 14
  },
  {
   "cell_type": "markdown",
   "source": [
    "4. Time each of the multiplication methods to see what is faster"
   ],
   "metadata": {
    "collapsed": false
   },
   "id": "c1aa35bd3315787f"
  },
  {
   "cell_type": "code",
   "outputs": [
    {
     "name": "stdout",
     "output_type": "stream",
     "text": [
      "Numpy Multiplication Time: 0.581290 seconds\n",
      "Python Loop Multiplication Time: 224.057724 seconds\n"
     ]
    }
   ],
   "source": [
    "num_repeats = 1000\n",
    "numpy_time = timeit.timeit(numpy_multiplication, number=num_repeats)\n",
    "python_loop_time = timeit.timeit(python_loop_multiplication, number=num_repeats)\n",
    "\n",
    "print(f\"Numpy Multiplication Time: {numpy_time:.6f} seconds\")\n",
    "print(f\"Python Loop Multiplication Time: {python_loop_time:.6f} seconds\")"
   ],
   "metadata": {
    "collapsed": false,
    "ExecuteTime": {
     "end_time": "2024-01-12T19:59:07.855934Z",
     "start_time": "2024-01-12T19:55:23.216484Z"
    }
   },
   "id": "f24cfea13e753abf",
   "execution_count": 15
  },
  {
   "cell_type": "code",
   "outputs": [],
   "source": [],
   "metadata": {
    "collapsed": false,
    "ExecuteTime": {
     "end_time": "2024-01-12T19:59:07.858468Z",
     "start_time": "2024-01-12T19:59:07.856814Z"
    }
   },
   "id": "4753e957b1b3fa1b",
   "execution_count": 15
  }
 ],
 "metadata": {
  "kernelspec": {
   "display_name": "Python 3",
   "language": "python",
   "name": "python3"
  },
  "language_info": {
   "codemirror_mode": {
    "name": "ipython",
    "version": 2
   },
   "file_extension": ".py",
   "mimetype": "text/x-python",
   "name": "python",
   "nbconvert_exporter": "python",
   "pygments_lexer": "ipython2",
   "version": "2.7.6"
  }
 },
 "nbformat": 4,
 "nbformat_minor": 5
}
