{
 "cells": [
  {
   "cell_type": "code",
   "execution_count": 6,
   "id": "initial_id",
   "metadata": {
    "collapsed": true,
    "ExecuteTime": {
     "end_time": "2024-02-05T13:21:31.132119Z",
     "start_time": "2024-02-05T13:21:31.127823Z"
    }
   },
   "outputs": [
    {
     "name": "stdout",
     "output_type": "stream",
     "text": [
      "P: A, C: B, P+C: AB, Dictionary: {'A': 0, 'B': 1}, output: []\n",
      "P: B, C: A, P+C: BA, Dictionary: {'A': 0, 'B': 1, 'AB': 2}, output: [0]\n",
      "P: A, C: B, P+C: AB, Dictionary: {'A': 0, 'B': 1, 'AB': 2, 'BA': 3}, output: [0, 1]\n",
      "P: AB, C: A, P+C: ABA, Dictionary: {'A': 0, 'B': 1, 'AB': 2, 'BA': 3}, output: [0, 1]\n",
      "P: A, C: B, P+C: AB, Dictionary: {'A': 0, 'B': 1, 'AB': 2, 'BA': 3, 'ABA': 4}, output: [0, 1, 2]\n",
      "P: AB, C: A, P+C: ABA, Dictionary: {'A': 0, 'B': 1, 'AB': 2, 'BA': 3, 'ABA': 4}, output: [0, 1, 2]\n",
      "P: ABA, C: B, P+C: ABAB, Dictionary: {'A': 0, 'B': 1, 'AB': 2, 'BA': 3, 'ABA': 4}, output: [0, 1, 2]\n",
      "P: B, C: A, P+C: BA, Dictionary: {'A': 0, 'B': 1, 'AB': 2, 'BA': 3, 'ABA': 4, 'ABAB': 5}, output: [0, 1, 2, 4]\n",
      "P: 3, C: (None), P+C: (None), Dictionary: {'A': 0, 'B': 1, 'AB': 2, 'BA': 3, 'ABA': 4, 'ABAB': 5}\n",
      "Compressed Output: [0, 1, 2, 4, 3]\n"
     ]
    }
   ],
   "source": [
    "def lzw_compress(input_str):\n",
    "    dictionary = {'A': 0, 'B': 1}  # Initialize the dictionary with 'A' and 'B'\n",
    "    next_code = 2  # Start with the next available code\n",
    "\n",
    "    output = []\n",
    "    current_code = input_str[0]\n",
    "\n",
    "    for char in input_str[1:]:\n",
    "        test_str = current_code + char\n",
    "        print(f'P: {current_code}, C: {char}, P+C: {current_code+char}, Dictionary: {dictionary}, output: {output}')\n",
    "        if test_str in dictionary:\n",
    "            current_code = test_str\n",
    "        else:\n",
    "            output.append(dictionary[current_code])\n",
    "            dictionary[test_str] = next_code\n",
    "            next_code += 1\n",
    "            current_code = char\n",
    "\n",
    "    output.append(dictionary[current_code])\n",
    "    print(f'P: {dictionary[current_code]}, C: (None), P+C: (None), Dictionary: {dictionary}')\n",
    "\n",
    "    return output\n",
    "\n",
    "# Example\n",
    "input_string = \"ABABABABA\"\n",
    "compressed_output = lzw_compress(input_string)\n",
    "print(\"Compressed Output:\", compressed_output)\n"
   ]
  },
  {
   "cell_type": "code",
   "outputs": [],
   "source": [],
   "metadata": {
    "collapsed": false
   },
   "id": "a6be3bb4c912b508"
  }
 ],
 "metadata": {
  "kernelspec": {
   "display_name": "Python 3",
   "language": "python",
   "name": "python3"
  },
  "language_info": {
   "codemirror_mode": {
    "name": "ipython",
    "version": 2
   },
   "file_extension": ".py",
   "mimetype": "text/x-python",
   "name": "python",
   "nbconvert_exporter": "python",
   "pygments_lexer": "ipython2",
   "version": "2.7.6"
  }
 },
 "nbformat": 4,
 "nbformat_minor": 5
}
