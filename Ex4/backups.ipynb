{
 "cells": [
  {
   "cell_type": "code",
   "execution_count": 1,
   "id": "initial_id",
   "metadata": {
    "collapsed": true,
    "ExecuteTime": {
     "end_time": "2024-02-25T07:51:24.554491Z",
     "start_time": "2024-02-25T07:51:21.271759Z"
    }
   },
   "outputs": [
    {
     "ename": "NameError",
     "evalue": "name 'plt' is not defined",
     "output_type": "error",
     "traceback": [
      "\u001B[0;31m---------------------------------------------------------------------------\u001B[0m",
      "\u001B[0;31mNameError\u001B[0m                                 Traceback (most recent call last)",
      "Cell \u001B[0;32mIn[1], line 19\u001B[0m\n\u001B[1;32m     16\u001B[0m dst[dst \u001B[38;5;241m<\u001B[39m\u001B[38;5;241m=\u001B[39m \u001B[38;5;241m0.1\u001B[39m \u001B[38;5;241m*\u001B[39m dst\u001B[38;5;241m.\u001B[39mmax()] \u001B[38;5;241m=\u001B[39m \u001B[38;5;241m0\u001B[39m\n\u001B[1;32m     17\u001B[0m \u001B[38;5;66;03m# image[dst > 0.01 * dst.max()] = [0, 255, 0] \u001B[39;00m\n\u001B[0;32m---> 19\u001B[0m \u001B[43mplt\u001B[49m\u001B[38;5;241m.\u001B[39mimshow(dst, cmap\u001B[38;5;241m=\u001B[39m\u001B[38;5;124m'\u001B[39m\u001B[38;5;124mgray\u001B[39m\u001B[38;5;124m'\u001B[39m)\n",
      "\u001B[0;31mNameError\u001B[0m: name 'plt' is not defined"
     ]
    }
   ],
   "source": [
    " # Importing the libraries \n",
    "import cv2 \n",
    "import numpy as np \n",
    "  \n",
    "# Reading the image and converting the image to B/W \n",
    "image = cv2.imread('./assets/desert_high_res.png') \n",
    "gray_image = cv2.cvtColor(image, cv2.COLOR_BGR2GRAY) \n",
    "gray_image = np.float32(gray_image) \n",
    "  \n",
    "# Applying the function \n",
    "dst = cv2.cornerHarris(gray_image, blockSize=2, ksize=3, k=0.04) \n",
    "  \n",
    "# dilate to mark the corners \n",
    "dst = cv2.dilate(dst, None) \n",
    "dst[dst > 0.1 * dst.max()] = 255\n",
    "dst[dst <= 0.1 * dst.max()] = 0\n",
    "# image[dst > 0.01 * dst.max()] = [0, 255, 0] \n",
    "\n",
    "plt.imshow(dst, cmap='gray')"
   ]
  },
  {
   "cell_type": "code",
   "outputs": [
    {
     "name": "stdout",
     "output_type": "stream",
     "text": [
      "Finding Corners...\n"
     ]
    },
    {
     "ename": "NameError",
     "evalue": "name 'harris_window_size' is not defined",
     "output_type": "error",
     "traceback": [
      "\u001B[0;31m---------------------------------------------------------------------------\u001B[0m",
      "\u001B[0;31mNameError\u001B[0m                                 Traceback (most recent call last)",
      "Cell \u001B[0;32mIn[2], line 47\u001B[0m\n\u001B[1;32m     42\u001B[0m     corners[matrix_R \u001B[38;5;241m>\u001B[39m threshold] \u001B[38;5;241m=\u001B[39m \u001B[38;5;241m1\u001B[39m\n\u001B[1;32m     43\u001B[0m     \u001B[38;5;28;01mreturn\u001B[39;00m corners\n\u001B[0;32m---> 47\u001B[0m \u001B[43mmy_harris\u001B[49m\u001B[43m(\u001B[49m\u001B[38;5;124;43m'\u001B[39;49m\u001B[38;5;124;43m./assets/desert_high_res.png\u001B[39;49m\u001B[38;5;124;43m'\u001B[39;49m\u001B[43m,\u001B[49m\u001B[43m \u001B[49m\u001B[38;5;241;43m5\u001B[39;49m\u001B[43m,\u001B[49m\u001B[43m \u001B[49m\u001B[38;5;241;43m0.04\u001B[39;49m\u001B[43m,\u001B[49m\u001B[43m \u001B[49m\u001B[38;5;241;43m0.30\u001B[39;49m\u001B[43m)\u001B[49m \u001B[38;5;66;03m# Change this path to one that will lead to your image\u001B[39;00m\n",
      "Cell \u001B[0;32mIn[2], line 27\u001B[0m, in \u001B[0;36mmy_harris\u001B[0;34m(img_dir, window_size, k, threshold)\u001B[0m\n\u001B[1;32m     24\u001B[0m \u001B[38;5;66;03m#   Step 3 - Calcular a soma dos produtos das derivadas para cada pixel (Sx2, Sy2 e Sxy)\u001B[39;00m\n\u001B[1;32m     25\u001B[0m \u001B[38;5;28mprint\u001B[39m (\u001B[38;5;124m\"\u001B[39m\u001B[38;5;124mFinding Corners...\u001B[39m\u001B[38;5;124m\"\u001B[39m)\n\u001B[0;32m---> 27\u001B[0m harris_window \u001B[38;5;241m=\u001B[39m np\u001B[38;5;241m.\u001B[39mones((\u001B[43mharris_window_size\u001B[49m, harris_window_size))\n\u001B[1;32m     28\u001B[0m Sx2 \u001B[38;5;241m=\u001B[39m convolve2d(Ix2, harris_window, mode\u001B[38;5;241m=\u001B[39m\u001B[38;5;124m'\u001B[39m\u001B[38;5;124msame\u001B[39m\u001B[38;5;124m'\u001B[39m)\n\u001B[1;32m     29\u001B[0m Sy2 \u001B[38;5;241m=\u001B[39m convolve2d(Iy2, harris_window, mode\u001B[38;5;241m=\u001B[39m\u001B[38;5;124m'\u001B[39m\u001B[38;5;124msame\u001B[39m\u001B[38;5;124m'\u001B[39m)\n",
      "\u001B[0;31mNameError\u001B[0m: name 'harris_window_size' is not defined"
     ]
    }
   ],
   "source": [
    "import cv2\n",
    "import numpy as np\n",
    "from matplotlib import pyplot as plt\n",
    "\n",
    "harris_window_size = 5\n",
    "\n",
    "def my_harris(img_dir,window_size,k,threshold):\n",
    "\n",
    "    img = cv2.imread(img_dir)\n",
    "    gray = cv2.cvtColor(img,cv2.COLOR_BGR2GRAY)\n",
    "\n",
    "    img_gaussian = cv2.GaussianBlur(gray,(3,3),0)\n",
    "    \n",
    "    #   Step 1 - Calculate the x e y image derivatives (dx e dy)\n",
    "    dx = cv2.Sobel(img_gaussian, cv2.CV_64F, 1, 0, ksize=3)\n",
    "    dy = cv2.Sobel(img_gaussian, cv2.CV_64F, 0, 1, ksize=3)\n",
    "    # dy, dx = np.gradient(gray)\n",
    "\n",
    "    #   Step 2 - Calculate product and second derivatives (dx2, dy2 e dxy)\n",
    "    Ix2=np.square(dx)\n",
    "    Iy2=np.square(dy)\n",
    "    Ixy=dx*dy\n",
    "\n",
    "    offset = int( window_size / 2 )\n",
    "    #   Step 3 - Calcular a soma dos produtos das derivadas para cada pixel (Sx2, Sy2 e Sxy)\n",
    "    print (\"Finding Corners...\")\n",
    "            \n",
    "    harris_window = np.ones((harris_window_size, harris_window_size))\n",
    "    Sx2 = convolve2d(Ix2, harris_window, mode='same')\n",
    "    Sy2 = convolve2d(Iy2, harris_window, mode='same')\n",
    "    Sxy = convolve2d(Ixy, harris_window, mode='same')\n",
    "\n",
    "    # Calculate the determinant and the trace of the structure tensor\n",
    "    det = Sx2 * Sy2 - (Sxy ** 2)\n",
    "    trace = Sx2 + Sy2\n",
    "\n",
    "    # Calculate the response of the detector\n",
    "    matrix_R = det - k * (trace ** 2)\n",
    "    \n",
    "    #   Step 6 - Apply a threshold\n",
    "    cv2.normalize(matrix_R, matrix_R, 0, 1, cv2.NORM_MINMAX)\n",
    "    corners = np.zeros_like(matrix_R)\n",
    "    corners[matrix_R > threshold] = 1\n",
    "    return corners\n",
    "                \n",
    "\n",
    "\n",
    "my_harris('./assets/desert_high_res.png', 5, 0.04, 0.30) # Change this path to one that will lead to your image"
   ],
   "metadata": {
    "collapsed": false,
    "ExecuteTime": {
     "end_time": "2024-02-25T09:55:57.676775Z",
     "start_time": "2024-02-25T09:55:56.950328Z"
    }
   },
   "id": "53b9651b54b8db8e",
   "execution_count": 2
  }
 ],
 "metadata": {
  "kernelspec": {
   "display_name": "Python 3",
   "language": "python",
   "name": "python3"
  },
  "language_info": {
   "codemirror_mode": {
    "name": "ipython",
    "version": 2
   },
   "file_extension": ".py",
   "mimetype": "text/x-python",
   "name": "python",
   "nbconvert_exporter": "python",
   "pygments_lexer": "ipython2",
   "version": "2.7.6"
  }
 },
 "nbformat": 4,
 "nbformat_minor": 5
}
