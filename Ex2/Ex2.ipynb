{
 "cells": [
  {
   "cell_type": "code",
   "execution_count": 6,
   "id": "initial_id",
   "metadata": {
    "collapsed": true,
    "ExecuteTime": {
     "end_time": "2024-01-20T16:24:09.398242Z",
     "start_time": "2024-01-20T16:24:08.976570Z"
    }
   },
   "outputs": [],
   "source": [
    "import os\n",
    "import matplotlib.pyplot as plt\n",
    "import numpy as np\n",
    "from scipy.io.wavfile import read, write\n"
   ]
  },
  {
   "cell_type": "code",
   "outputs": [],
   "source": [
    "def read_raw_y(file_path):\n",
    "    if not os.path.isfile(file_path): \n",
    "        raise ValueError(\"Input file is wrong\")\n",
    "\n",
    "    return read(file_path)\n",
    "\n",
    "\n",
    "def write_wav_file(file_path, fs, y):\n",
    "    write(file_path, fs, y)\n",
    "    \n",
    "    \n",
    "def get_time_vector(signal):\n",
    "    signal_len = len(signal)\n",
    "    return np.linspace(0, signal_len/fs , signal_len, endpoint=False)  \n",
    "    \n",
    "    \n",
    "def get_dft(signal):\n",
    "    return np.fft.fft(signal)\n",
    "\n",
    "    \n",
    "def get_dft_and_frequencies(signal):\n",
    "    return np.fft.fft(signal), np.fft.fftfreq(len(signal), 1 / fs)\n",
    "    \n",
    "def get_signal(dft):\n",
    "    return np.fft.ifft(dft_result_filtered)\n",
    "    \n",
    "def get_windows_dft_and_frequencies(signal, fs, window_size, window_step):\n",
    "    signal_length = len(signal)\n",
    "    num_windows = (signal_length - window_size) // window_step + 1\n",
    "    \n",
    "    dfts = []\n",
    "    frequency = np.fft.fftfreq(window_size, 1 / fs)\n",
    "    \n",
    "    for i in range(num_windows):\n",
    "        start_idx = i * window_step\n",
    "        end_idx = start_idx + window_size\n",
    "        \n",
    "        window = signal[start_idx:end_idx]\n",
    "        dft_result = get_dft(window)\n",
    "        dfts.append(dft_result)\n",
    "            \n",
    "    return dfts, frequency\n",
    "\n",
    "def get_frequencies_that_exists_in_all_windows(windows_dfts, frequency, min_amplitude):\n",
    "    all_arrays = np.array(windows_dfts)\n",
    "    condition_array = np.greater(np.abs(all_arrays), min_amplitude)    \n",
    "    result_array = np.all(condition_array, axis=0).astype(int)\n",
    "    return frequency[np.argwhere(result_array > 0)]\n",
    "\n",
    "def get_frequency_range_to_filter(frequencies_to_filter, extra_filter):\n",
    "    positive_frequencies = frequencies_to_filter[frequencies_to_filter > 0] \n",
    "    return np.max(np.min(positive_frequencies) - extra_filter, 0) , np.max(positive_frequencies) + extra_filter\n",
    "\n",
    "def get_filtered_signal_dft(signal_dft, frequency, frequency_range_to_filter):\n",
    "    signal_dft[np.logical_and(frequency_range_to_filter[0] < np.abs(frequency), np.abs(frequency) < frequency_range_to_filter[1])] = 0\n",
    "    return signal_dft\n",
    "    \n",
    "\n",
    "def q1(audio_path) -> np.array:\n",
    "    \"\"\"\n",
    "    1\n",
    "    :param audio_path: path to q1 audio file\n",
    "    :return: return q1 denoised version\n",
    "    \"\"\" \n",
    "    (fs, signal) = read_raw_y(audio_path)\n",
    "    signal_dft, frequency = get_dft_and_frequencies(signal)\n",
    "    windows_dfts, windows_frequency = get_windows_dft_and_frequencies(signal, fs, window_size=300, window_step=100)\n",
    "    frequencies_to_filter = get_frequencies_that_exists_in_all_windows(windows_dfts, windows_frequency, 1)\n",
    "    frequency_range_to_filter = get_frequency_range_to_filter(frequencies_to_filter, 10)\n",
    "    filtered_signal_dft = get_filtered_signal_dft(signal_dft, frequency, frequency_range_to_filter)\n",
    "    filtered_signal = get_signal(filtered_signal_dft)\n",
    "    return np.real(filtered_signal)\n",
    "    \n",
    "    "
   ],
   "metadata": {
    "collapsed": false,
    "ExecuteTime": {
     "end_time": "2024-01-20T18:35:30.600193Z",
     "start_time": "2024-01-20T18:35:30.597674Z"
    }
   },
   "id": "58b9621d728bb2d0",
   "execution_count": 119
  },
  {
   "cell_type": "code",
   "outputs": [],
   "source": [
    "(fs, signal) = read_raw_y('./assets/q1.wav')\n",
    "signal_dft, frequency = get_dft_and_frequencies(signal)\n",
    "windows_dfts, windows_frequency = get_windows_dft_and_frequencies(signal, fs, window_size=300, window_step=100)\n",
    "frequencies_to_filter = get_frequencies_that_exists_in_all_windows(windows_dfts, windows_frequency, 1)\n",
    "frequency_range_to_filter = get_frequency_range_to_filter(frequencies_to_filter, 10)\n",
    "filtered_signal_dft = get_filtered_signal_dft(signal_dft, frequency, frequency_range_to_filter)\n",
    "filtered_signal = get_signal(filtered_signal_dft)\n",
    "write_wav_file('./assets/q1-filtered.wav', fs, np.real(filtered_signal))\n"
   ],
   "metadata": {
    "collapsed": false,
    "ExecuteTime": {
     "end_time": "2024-01-20T18:37:05.065984Z",
     "start_time": "2024-01-20T18:37:05.058297Z"
    }
   },
   "id": "3ab91a352d3b74d3",
   "execution_count": 120
  },
  {
   "cell_type": "code",
   "outputs": [
    {
     "data": {
      "text/plain": "[<matplotlib.lines.Line2D at 0x13eaaa290>]"
     },
     "execution_count": 124,
     "metadata": {},
     "output_type": "execute_result"
    },
    {
     "data": {
      "text/plain": "<Figure size 640x480 with 1 Axes>",
      "image/png": "[encoded data removed]"
     },
     "metadata": {},
     "output_type": "display_data"
    }
   ],
   "source": [
    "plt.plot(frequency, filtered_signal_dft)\n",
    "plt.plot(frequency, signal_dft)\n"
   ],
   "metadata": {
    "collapsed": false,
    "ExecuteTime": {
     "end_time": "2024-01-20T18:38:23.541852Z",
     "start_time": "2024-01-20T18:38:23.454816Z"
    }
   },
   "id": "1fc2ba0d873567c3",
   "execution_count": 124
  },
  {
   "cell_type": "code",
   "outputs": [],
   "source": [],
   "metadata": {
    "collapsed": false
   },
   "id": "ca56e66f19bfac70"
  }
 ],
 "metadata": {
  "kernelspec": {
   "display_name": "Python 3",
   "language": "python",
   "name": "python3"
  },
  "language_info": {
   "codemirror_mode": {
    "name": "ipython",
    "version": 2
   },
   "file_extension": ".py",
   "mimetype": "text/x-python",
   "name": "python",
   "nbconvert_exporter": "python",
   "pygments_lexer": "ipython2",
   "version": "2.7.6"
  }
 },
 "nbformat": 4,
 "nbformat_minor": 5
}
