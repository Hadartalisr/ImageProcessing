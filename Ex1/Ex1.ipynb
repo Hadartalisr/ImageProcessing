{
 "cells": [
  {
   "cell_type": "code",
   "execution_count": 1,
   "id": "initial_id",
   "metadata": {
    "collapsed": true,
    "ExecuteTime": {
     "end_time": "2024-01-12T11:07:02.684459Z",
     "start_time": "2024-01-12T11:07:02.409643Z"
    }
   },
   "outputs": [],
   "source": [
    "import mediapy as media\n",
    "import os\n",
    "import matplotlib.pyplot as plt\n",
    "import numpy as np\n",
    "from PIL import Image"
   ]
  },
  {
   "cell_type": "code",
   "outputs": [
    {
     "data": {
      "text/plain": "'./assets/video1_category1.mp4'"
     },
     "execution_count": 3,
     "metadata": {},
     "output_type": "execute_result"
    }
   ],
   "source": [
    "#constants \n",
    "assets_path = \"./assets\"\n",
    "video1_file_name = 'video1_category1.mp4'\n",
    "video2_file_name = 'video2_category1.mp4'\n",
    "video3_file_name = 'video3_category2.mp4'\n",
    "video4_file_name = 'video4_category2.mp4'\n",
    "\n",
    "def get_path_to_video(video_file_name):\n",
    "    return os.path.join(assets_path, video_file_name)\n",
    "\n",
    "def get_video(path):\n",
    "    return  media.read_video(path)\n",
    "\n",
    "def get_grayscale_image(video):"
   ],
   "metadata": {
    "collapsed": false,
    "ExecuteTime": {
     "end_time": "2024-01-12T11:12:19.067976Z",
     "start_time": "2024-01-12T11:12:19.063485Z"
    }
   },
   "id": "7a205900da9f6562",
   "execution_count": 3
  },
  {
   "cell_type": "code",
   "outputs": [],
   "source": [],
   "metadata": {
    "collapsed": false
   },
   "id": "c12de64f1d76af47"
  }
 ],
 "metadata": {
  "kernelspec": {
   "display_name": "Python 3",
   "language": "python",
   "name": "python3"
  },
  "language_info": {
   "codemirror_mode": {
    "name": "ipython",
    "version": 2
   },
   "file_extension": ".py",
   "mimetype": "text/x-python",
   "name": "python",
   "nbconvert_exporter": "python",
   "pygments_lexer": "ipython2",
   "version": "2.7.6"
  }
 },
 "nbformat": 4,
 "nbformat_minor": 5
}
